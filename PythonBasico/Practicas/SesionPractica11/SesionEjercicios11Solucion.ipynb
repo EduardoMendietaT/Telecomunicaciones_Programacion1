{
 "cells": [
  {
   "cell_type": "markdown",
   "metadata": {},
   "source": [
    "# Sesión de ejercicios 10"
   ]
  },
  {
   "cell_type": "markdown",
   "metadata": {},
   "source": [
    "El objetivo de esta sesión de ejercicios es que el estudiante logre manejar de forma correcta la funcionalidad encapsulada en el paquete `Pandas` para manejo de datos.\n",
    "\n",
    "Pandas provee funcionalidades para encapsular distintos tipos de datos ordenados a través de índices y columnas. Esta funcionalidad permite el correcto manejo de dicha información, además de la ejecución de consultas, filtros, agrupamientos, etc. con muy pocas líneas de código.  Adicionalmente, `Pandas` permite el manejo de información organizada como series de tiempo.\n",
    "\n",
    "Ejecutar el siguiente código para importar las librerías necesarias para esta sesión.  Si necesita alguna librería extra, importarla en el ejercicio correspondiente."
   ]
  },
  {
   "cell_type": "code",
   "execution_count": 2,
   "metadata": {},
   "outputs": [],
   "source": [
    "import pandas as pd\n",
    "import numpy as np\n",
    "import matplotlib.pylab as plt\n",
    "import seaborn as sns\n",
    "sns.set()"
   ]
  },
  {
   "cell_type": "markdown",
   "metadata": {},
   "source": [
    "## Ejercicio 1"
   ]
  },
  {
   "cell_type": "markdown",
   "metadata": {},
   "source": [
    "El índice global de felicidad es una publicación anual de las Naciones Unidas que mide la felicidad en 157 países, basándose en diversos factores, como el PIB per cápita. Se requiere conocer la situación de Ecuador con respecto al resto de países del mundo. Para ello:\n",
    "\n",
    "- Leer en un `DataFrame` los datos del archivo `felicidad-2016.csv`\n",
    "- una vez haya leído el archivo, muestre las columnas del `DataFrame` y los primeros 10 registros (para ello use la función `.head()`)\n",
    "- Muestre cuál es `Happiness Score` de Ecuador y el score promedio del resto de los países. Ecuador está por sobre la media o por debajo?\n",
    "\n",
    "P.D. como ayuda, use el campo `Country` como índice del `DataFrame`"
   ]
  },
  {
   "cell_type": "code",
   "execution_count": 309,
   "metadata": {},
   "outputs": [
    {
     "name": "stdout",
     "output_type": "stream",
     "text": [
      "Index(['Region', 'Happiness Rank', 'Happiness Score',\n",
      "       'Lower Confidence Interval', 'Upper Confidence Interval',\n",
      "       'Economy (GDP per Capita)', 'Family', 'Health (Life Expectancy)',\n",
      "       'Freedom', 'Trust (Government Corruption)', 'Generosity',\n",
      "       'Dystopia Residual'],\n",
      "      dtype='object')\n",
      "                     Region  Happiness Rank  Happiness Score  \\\n",
      "Country                                                        \n",
      "Denmark      Western Europe               1            7.526   \n",
      "Switzerland  Western Europe               2            7.509   \n",
      "Iceland      Western Europe               3            7.501   \n",
      "Norway       Western Europe               4            7.498   \n",
      "Finland      Western Europe               5            7.413   \n",
      "\n",
      "             Lower Confidence Interval  Upper Confidence Interval  \\\n",
      "Country                                                             \n",
      "Denmark                          7.460                      7.592   \n",
      "Switzerland                      7.428                      7.590   \n",
      "Iceland                          7.333                      7.669   \n",
      "Norway                           7.421                      7.575   \n",
      "Finland                          7.351                      7.475   \n",
      "\n",
      "             Economy (GDP per Capita)   Family  Health (Life Expectancy)  \\\n",
      "Country                                                                    \n",
      "Denmark                       1.44178  1.16374                   0.79504   \n",
      "Switzerland                   1.52733  1.14524                   0.86303   \n",
      "Iceland                       1.42666  1.18326                   0.86733   \n",
      "Norway                        1.57744  1.12690                   0.79579   \n",
      "Finland                       1.40598  1.13464                   0.81091   \n",
      "\n",
      "             Freedom  Trust (Government Corruption)  Generosity  \\\n",
      "Country                                                           \n",
      "Denmark      0.57941                        0.44453     0.36171   \n",
      "Switzerland  0.58557                        0.41203     0.28083   \n",
      "Iceland      0.56624                        0.14975     0.47678   \n",
      "Norway       0.59609                        0.35776     0.37895   \n",
      "Finland      0.57104                        0.41004     0.25492   \n",
      "\n",
      "             Dystopia Residual  \n",
      "Country                         \n",
      "Denmark                2.73939  \n",
      "Switzerland            2.69463  \n",
      "Iceland                2.83137  \n",
      "Norway                 2.66465  \n",
      "Finland                2.82596  \n",
      "El Happiness Score de Ecuador es 5.976000\n",
      "El Happiness Score (promedio) del mundo es 5.382185\n"
     ]
    }
   ],
   "source": [
    "# Ingrese su código aquí\n",
    "\n",
    "ds = pd.read_csv(\"felicidad-2016.csv\", index_col=0, sep=\",\")\n",
    "\n",
    "# se muestran las columnas y los primeros registros\n",
    "print(ds.columns)\n",
    "print(ds.head())\n",
    "\n",
    "print(\"El Happiness Score de Ecuador es {:f}\".format(ds.loc[\"Ecuador\", \"Happiness Score\"]))\n",
    "print(\"El Happiness Score (promedio) del mundo es {:f}\".format(ds.loc[:, \"Happiness Score\"].mean()))"
   ]
  },
  {
   "cell_type": "markdown",
   "metadata": {},
   "source": [
    "## Ejercicio 2"
   ]
  },
  {
   "cell_type": "markdown",
   "metadata": {},
   "source": [
    "Usando como base el ejercicio anterior, ¿Cuales son los 3 primeros países en términos de `Happiness Score`?; y, ¿Cuáles son los 3 países con menor Score?. Muestre en una tabla: El País, el Score, el `Health (Life Expectancy)`, y la `Region`"
   ]
  },
  {
   "cell_type": "code",
   "execution_count": 310,
   "metadata": {},
   "outputs": [
    {
     "data": {
      "text/html": [
       "<div>\n",
       "<style scoped>\n",
       "    .dataframe tbody tr th:only-of-type {\n",
       "        vertical-align: middle;\n",
       "    }\n",
       "\n",
       "    .dataframe tbody tr th {\n",
       "        vertical-align: top;\n",
       "    }\n",
       "\n",
       "    .dataframe thead th {\n",
       "        text-align: right;\n",
       "    }\n",
       "</style>\n",
       "<table border=\"1\" class=\"dataframe\">\n",
       "  <thead>\n",
       "    <tr style=\"text-align: right;\">\n",
       "      <th></th>\n",
       "      <th>Happiness Score</th>\n",
       "      <th>Health (Life Expectancy)</th>\n",
       "      <th>Region</th>\n",
       "    </tr>\n",
       "    <tr>\n",
       "      <th>Country</th>\n",
       "      <th></th>\n",
       "      <th></th>\n",
       "      <th></th>\n",
       "    </tr>\n",
       "  </thead>\n",
       "  <tbody>\n",
       "    <tr>\n",
       "      <th>Burundi</th>\n",
       "      <td>2.905</td>\n",
       "      <td>0.15747</td>\n",
       "      <td>Sub-Saharan Africa</td>\n",
       "    </tr>\n",
       "    <tr>\n",
       "      <th>Syria</th>\n",
       "      <td>3.069</td>\n",
       "      <td>0.62994</td>\n",
       "      <td>Middle East and Northern Africa</td>\n",
       "    </tr>\n",
       "    <tr>\n",
       "      <th>Togo</th>\n",
       "      <td>3.303</td>\n",
       "      <td>0.24811</td>\n",
       "      <td>Sub-Saharan Africa</td>\n",
       "    </tr>\n",
       "    <tr>\n",
       "      <th>Iceland</th>\n",
       "      <td>7.501</td>\n",
       "      <td>0.86733</td>\n",
       "      <td>Western Europe</td>\n",
       "    </tr>\n",
       "    <tr>\n",
       "      <th>Switzerland</th>\n",
       "      <td>7.509</td>\n",
       "      <td>0.86303</td>\n",
       "      <td>Western Europe</td>\n",
       "    </tr>\n",
       "    <tr>\n",
       "      <th>Denmark</th>\n",
       "      <td>7.526</td>\n",
       "      <td>0.79504</td>\n",
       "      <td>Western Europe</td>\n",
       "    </tr>\n",
       "  </tbody>\n",
       "</table>\n",
       "</div>"
      ],
      "text/plain": [
       "             Happiness Score  Health (Life Expectancy)  \\\n",
       "Country                                                  \n",
       "Burundi                2.905                   0.15747   \n",
       "Syria                  3.069                   0.62994   \n",
       "Togo                   3.303                   0.24811   \n",
       "Iceland                7.501                   0.86733   \n",
       "Switzerland            7.509                   0.86303   \n",
       "Denmark                7.526                   0.79504   \n",
       "\n",
       "                                      Region  \n",
       "Country                                       \n",
       "Burundi                   Sub-Saharan Africa  \n",
       "Syria        Middle East and Northern Africa  \n",
       "Togo                      Sub-Saharan Africa  \n",
       "Iceland                       Western Europe  \n",
       "Switzerland                   Western Europe  \n",
       "Denmark                       Western Europe  "
      ]
     },
     "execution_count": 310,
     "metadata": {},
     "output_type": "execute_result"
    }
   ],
   "source": [
    "# Ingrese su código aquí\n",
    "\n",
    "# se ordenan los datos por el score de la felicidad\n",
    "tmp = ds.sort_values(by=\"Happiness Score\")\n",
    "\n",
    "# se concatenan los 3 primeros y últimos registros y se muestran los resultados\n",
    "pd.concat([\n",
    "    tmp.iloc[:3, ][[\"Happiness Score\", \"Health (Life Expectancy)\", \"Region\"]], \n",
    "    tmp.iloc[-3:, ][[\"Happiness Score\", \"Health (Life Expectancy)\", \"Region\"]]\n",
    "])"
   ]
  },
  {
   "cell_type": "markdown",
   "metadata": {},
   "source": [
    "## Ejercicio 3"
   ]
  },
  {
   "cell_type": "markdown",
   "metadata": {},
   "source": [
    "Generar un reporte donde se muestren los `Happiness Score` promedios por Región. Dichos valores deberán estar ordenados de menor a mayor.\n",
    "\n",
    "Salida esperada:\n",
    "\n",
    "<img src=\"ejercicio3.png\">"
   ]
  },
  {
   "cell_type": "code",
   "execution_count": 311,
   "metadata": {},
   "outputs": [
    {
     "name": "stdout",
     "output_type": "stream",
     "text": [
      "Region                                  Score               \n",
      "----------------------------------------------------------------------\n",
      "Sub-Saharan Africa                                     4.136\n",
      "Southern Asia                                          4.563\n",
      "Southeastern Asia                                      5.339\n",
      "Central and Eastern Europe                             5.371\n",
      "Middle East and Northern Africa                        5.386\n",
      "Eastern Asia                                           5.624\n",
      "Latin America and Caribbean                            6.102\n",
      "Western Europe                                         6.686\n",
      "North America                                          7.254\n",
      "Australia and New Zealand                              7.323\n",
      "----------------------------------------------------------------------\n"
     ]
    }
   ],
   "source": [
    "# Inserte su código aquí\n",
    "\n",
    "# se agrupan los registros por region, se calcula su media y se ordenan los valores\n",
    "tmp = ds.groupby(\"Region\")[\"Happiness Score\"].mean().sort_values()\n",
    "\n",
    "# se muestra la tabla con los resultados\n",
    "print(\"{:40s}{:20s}\".format(\"Region\", \"Score\"))\n",
    "print(\"-\"*70)\n",
    "for r in tmp.index:\n",
    "    print(\"{:40s}{:20.3f}\".format(r, tmp[r]))\n",
    "print(\"-\"*70)"
   ]
  },
  {
   "cell_type": "markdown",
   "metadata": {},
   "source": [
    "## Ejercicio 4"
   ]
  },
  {
   "cell_type": "markdown",
   "metadata": {},
   "source": [
    "Se requiere mostrar la información del dataset `felicidad-2016.csv`, pero únicamente de ciertos países. Para ello, realizar lo siguiente:\n",
    "\n",
    "- Pedir un listado de países al usuario (ingresar paises separados por comas)\n",
    "- Verificar si los países existen en el `DataFrame`. Si algún país no existe, descartarlo\n",
    "- Mostrar toda la información disponible de los países ingresados"
   ]
  },
  {
   "cell_type": "code",
   "execution_count": 95,
   "metadata": {},
   "outputs": [
    {
     "name": "stdout",
     "output_type": "stream",
     "text": [
      "Ingreses países separados por comas: Ecuador,Peru,abc,Colombia\n"
     ]
    },
    {
     "data": {
      "text/html": [
       "<div>\n",
       "<style scoped>\n",
       "    .dataframe tbody tr th:only-of-type {\n",
       "        vertical-align: middle;\n",
       "    }\n",
       "\n",
       "    .dataframe tbody tr th {\n",
       "        vertical-align: top;\n",
       "    }\n",
       "\n",
       "    .dataframe thead th {\n",
       "        text-align: right;\n",
       "    }\n",
       "</style>\n",
       "<table border=\"1\" class=\"dataframe\">\n",
       "  <thead>\n",
       "    <tr style=\"text-align: right;\">\n",
       "      <th></th>\n",
       "      <th>Region</th>\n",
       "      <th>Happiness Rank</th>\n",
       "      <th>Happiness Score</th>\n",
       "      <th>Lower Confidence Interval</th>\n",
       "      <th>Upper Confidence Interval</th>\n",
       "      <th>Economy (GDP per Capita)</th>\n",
       "      <th>Family</th>\n",
       "      <th>Health (Life Expectancy)</th>\n",
       "      <th>Freedom</th>\n",
       "      <th>Trust (Government Corruption)</th>\n",
       "      <th>Generosity</th>\n",
       "      <th>Dystopia Residual</th>\n",
       "    </tr>\n",
       "    <tr>\n",
       "      <th>Country</th>\n",
       "      <th></th>\n",
       "      <th></th>\n",
       "      <th></th>\n",
       "      <th></th>\n",
       "      <th></th>\n",
       "      <th></th>\n",
       "      <th></th>\n",
       "      <th></th>\n",
       "      <th></th>\n",
       "      <th></th>\n",
       "      <th></th>\n",
       "      <th></th>\n",
       "    </tr>\n",
       "  </thead>\n",
       "  <tbody>\n",
       "    <tr>\n",
       "      <th>Colombia</th>\n",
       "      <td>Latin America and Caribbean</td>\n",
       "      <td>31</td>\n",
       "      <td>6.481</td>\n",
       "      <td>6.384</td>\n",
       "      <td>6.578</td>\n",
       "      <td>1.03032</td>\n",
       "      <td>1.02169</td>\n",
       "      <td>0.59659</td>\n",
       "      <td>0.44735</td>\n",
       "      <td>0.05399</td>\n",
       "      <td>0.15626</td>\n",
       "      <td>3.17471</td>\n",
       "    </tr>\n",
       "    <tr>\n",
       "      <th>Ecuador</th>\n",
       "      <td>Latin America and Caribbean</td>\n",
       "      <td>51</td>\n",
       "      <td>5.976</td>\n",
       "      <td>5.880</td>\n",
       "      <td>6.072</td>\n",
       "      <td>0.97306</td>\n",
       "      <td>0.85974</td>\n",
       "      <td>0.68613</td>\n",
       "      <td>0.40270</td>\n",
       "      <td>0.18037</td>\n",
       "      <td>0.10074</td>\n",
       "      <td>2.77366</td>\n",
       "    </tr>\n",
       "    <tr>\n",
       "      <th>Peru</th>\n",
       "      <td>Latin America and Caribbean</td>\n",
       "      <td>64</td>\n",
       "      <td>5.743</td>\n",
       "      <td>5.647</td>\n",
       "      <td>5.839</td>\n",
       "      <td>0.99602</td>\n",
       "      <td>0.81255</td>\n",
       "      <td>0.62994</td>\n",
       "      <td>0.37502</td>\n",
       "      <td>0.05292</td>\n",
       "      <td>0.14527</td>\n",
       "      <td>2.73117</td>\n",
       "    </tr>\n",
       "  </tbody>\n",
       "</table>\n",
       "</div>"
      ],
      "text/plain": [
       "                               Region  Happiness Rank  Happiness Score  \\\n",
       "Country                                                                  \n",
       "Colombia  Latin America and Caribbean              31            6.481   \n",
       "Ecuador   Latin America and Caribbean              51            5.976   \n",
       "Peru      Latin America and Caribbean              64            5.743   \n",
       "\n",
       "          Lower Confidence Interval  Upper Confidence Interval  \\\n",
       "Country                                                          \n",
       "Colombia                      6.384                      6.578   \n",
       "Ecuador                       5.880                      6.072   \n",
       "Peru                          5.647                      5.839   \n",
       "\n",
       "          Economy (GDP per Capita)   Family  Health (Life Expectancy)  \\\n",
       "Country                                                                 \n",
       "Colombia                   1.03032  1.02169                   0.59659   \n",
       "Ecuador                    0.97306  0.85974                   0.68613   \n",
       "Peru                       0.99602  0.81255                   0.62994   \n",
       "\n",
       "          Freedom  Trust (Government Corruption)  Generosity  \\\n",
       "Country                                                        \n",
       "Colombia  0.44735                        0.05399     0.15626   \n",
       "Ecuador   0.40270                        0.18037     0.10074   \n",
       "Peru      0.37502                        0.05292     0.14527   \n",
       "\n",
       "          Dystopia Residual  \n",
       "Country                      \n",
       "Colombia            3.17471  \n",
       "Ecuador             2.77366  \n",
       "Peru                2.73117  "
      ]
     },
     "execution_count": 95,
     "metadata": {},
     "output_type": "execute_result"
    }
   ],
   "source": [
    "#  Ingrese su código aquí\n",
    "\n",
    "buscar = input(\"Ingreses países separados por comas: \").split(\",\")\n",
    "\n",
    "# se verificar que los paises existen. Si alguno no existe, se lo elimina\n",
    "for b in buscar:\n",
    "    if b not in np.array(ds.index):\n",
    "        buscar.remove(b)\n",
    "\n",
    "# se extraen los paises del estudio\n",
    "paises = np.array(ds.index)\n",
    "\n",
    "# se crea una funcion q verifica que un pais se encuentre en la lista de paises pedidos\n",
    "f = lambda p: p in buscar\n",
    "\n",
    "# se filtran, a manera de una máscara, los paises pedidos\n",
    "ds.loc[map(f, paises)]"
   ]
  },
  {
   "cell_type": "markdown",
   "metadata": {},
   "source": [
    "## Ejercicio 5"
   ]
  },
  {
   "cell_type": "markdown",
   "metadata": {},
   "source": [
    "La función `np.unique()` del paquete `numpy` retorna los elementos únicos de una lista o array. Esta funcionalidad es muy útil en casos en donde se requiera saber que valores puede tener una variable. Adicionalmente, cuando se manejan elementos de tipo `Date` en pandas, muchas veces se tienen frecuencias menores a un día (varias mediciones por día). Para conocer cuantos días existen en un dataset, se puede ejecutar el siguiente comando:\n",
    "\n",
    "`np.unique(ds.index.date).size`\n",
    "\n",
    "considerando que `ds` es un `DataFrame` que tiene un índice de tipo `Date` (como en el ejercicio anterior)"
   ]
  },
  {
   "cell_type": "markdown",
   "metadata": {},
   "source": [
    "El archivo `weather_2012.csv` contiene información ambiental en un lugar específico. Entre otras cosas tiene la temperatura (Temp), humedad relativa (Rel_Hum), velocidad del viento (Wind_Spd), visibilidad (Visibility), tipo de clima (Weather).  \n",
    "\n",
    "Una compañia dedicada a la salud y cuidado del hogar está realizando un estudio de la situación actual de la región de estudio. Esta compañia busca determinar cuan problemático podría llegar a ser la humedad relativa en la salud de las personas. Para ello, determina que necesita conocer cuantos días existieron en donde la humedad relativa estuvo fuera del rango de 15% -75%.  Implemente esta funcionalidad y muestre la cantidad de días en donde existieron valores de humedad relativa fuera de este rango y muestre el número total de días que existen en el `DataFrame`. Finalmente, calcule el porcentaje de días que estuvieron fuera del rango antes descrito."
   ]
  },
  {
   "cell_type": "code",
   "execution_count": 312,
   "metadata": {},
   "outputs": [
    {
     "name": "stdout",
     "output_type": "stream",
     "text": [
      "Número de días fuera del rango: 288\n",
      "Número total de días en el DataFrame: 366\n",
      "Porcentaje de días fuera del rango 78.7%\n"
     ]
    }
   ],
   "source": [
    "# Ingrese su código aquí\n",
    "\n",
    "ds = pd.read_csv(\"weather_2012.csv\", index_col=0, parse_dates=[\"Date/Time\"])\n",
    "\n",
    "# se determina el número de días donde los valores de humedad estuvieron fuera del rango\n",
    "n_fuera = np.unique(ds.loc[(ds[\"Rel_Hum\"]<15) | (ds[\"Rel_Hum\"]>75)].index.date).size\n",
    "print(\"Número de días fuera del rango: {:d}\".format(n_fuera))\n",
    "\n",
    "# se determina el número de días totales en el dataframe\n",
    "n = np.unique(ds.index.date).size\n",
    "print(\"Número total de días en el DataFrame: {:d}\".format(n))\n",
    "\n",
    "# se calcula el porcentaje de días fuera de rango\n",
    "print(\"Porcentaje de días fuera del rango {:.1f}%\". format(100*n_fuera/n))"
   ]
  },
  {
   "cell_type": "markdown",
   "metadata": {},
   "source": [
    "## Ejercicio 6"
   ]
  },
  {
   "cell_type": "markdown",
   "metadata": {},
   "source": [
    "En el `DataFrame` anterior, existe una columna denominada `Weather` con múltiples valores. Una empresa está interesada en la relación entre visibilidad y clima cuando hay neblina (Fog). Calcule, en términos porcentuales cuanta visibilidad se pierde en días en los que hay neblina. Adicionalmente, cuál es el porcentaje de días en donde se tiene neblina.\n",
    "\n",
    "Ayuda: <br>\n",
    "- Investigue como buscar un substring en una columna. Busque los elementos que tengan *Fog* en la columna `Visibility`"
   ]
  },
  {
   "cell_type": "code",
   "execution_count": 140,
   "metadata": {},
   "outputs": [
    {
     "name": "stdout",
     "output_type": "stream",
     "text": [
      "Porcentaje de visibilidad cuando hay neblina: 20.94%\n",
      "Porcentaje de días donde hay neblina: 21.31%\n"
     ]
    }
   ],
   "source": [
    "# Inserte su código aquí\n",
    "\n",
    "# promedio de visibilidad cuando hay neblina\n",
    "v_fog = ds.loc[ds[\"Weather\"].str.contains(\"Fog\")][\"Visibility\"].mean()\n",
    "\n",
    "# promedio de visibilidad cuando no hay neblina\n",
    "v_normal = ds.loc[~ds[\"Weather\"].str.contains(\"Fog\")][\"Visibility\"].mean()\n",
    "\n",
    "print(\"Porcentaje de visibilidad cuando hay neblina: {:.2f}%\".format(v_fog*100/v_normal))\n",
    "\n",
    "# número de días donde hay neblina\n",
    "n_dias_fog = np.unique(ds.loc[ds[\"Weather\"].str.contains(\"Fog\")][\"Visibility\"].index.date).size\n",
    "\n",
    "# número de días totales en el dataset\n",
    "n_dias = np.unique(ds.index.date).size\n",
    "\n",
    "print(\"Porcentaje de días donde hay neblina: {:.2f}%\".format(n_dias_fog*100/n_dias))"
   ]
  },
  {
   "cell_type": "markdown",
   "metadata": {},
   "source": [
    "## Ejercicio 7"
   ]
  },
  {
   "cell_type": "markdown",
   "metadata": {},
   "source": [
    "Usando el `DataFrame` anterior, se requiere categorizar las temperaturas encontradas. Para ello, se definen las siguientes categorías para la temperatura ($t$):\n",
    "\n",
    "- Categoria 1: $t \\le 0$\n",
    "- Categoria 2: $0 < t \\le 10$\n",
    "- Categoria 3: $10 < t \\le 20$\n",
    "- Categoría 4: $t > 20$\n",
    "\n",
    "Para este ejercicio, cree una nueva columna `Categoria` cuyos valores dependan de los rangos de temperatura. Finalmente muestre el promedio de temperatura por categoría."
   ]
  },
  {
   "cell_type": "code",
   "execution_count": 154,
   "metadata": {},
   "outputs": [
    {
     "name": "stdout",
     "output_type": "stream",
     "text": [
      "Categoria\n",
      "Categoria 1    -6.636310\n",
      "Categoria 2     4.459402\n",
      "Categoria 3    15.257582\n",
      "Categoria 4    24.078036\n",
      "Name: Temp, dtype: float64\n"
     ]
    }
   ],
   "source": [
    "# Inserte su código aquí\n",
    "\n",
    "def dar_categoria(t):\n",
    "    \"\"\"Retorna la categoría en base a la temperatura `t` de entrada\n",
    "    \n",
    "    Parametros\n",
    "    ----------\n",
    "    t : float\n",
    "      temperatura medida\n",
    "    \"\"\"\n",
    "    cat = 4\n",
    "    if t <=0:\n",
    "        cat = 1\n",
    "    elif t <=10:\n",
    "        cat = 2\n",
    "    elif t <= 20:\n",
    "        cat = 3\n",
    "\n",
    "    return \"Categoria \" + str(cat)\n",
    "\n",
    "# se crea una nueva columna con las categorias creadas de la función\n",
    "ds[\"Categoria\"] = list(map(dar_categoria, ds[\"Temp\"]))\n",
    "\n",
    "# se muestran los resultados\n",
    "print(ds.groupby(\"Categoria\").mean()[\"Temp\"])"
   ]
  },
  {
   "cell_type": "markdown",
   "metadata": {},
   "source": [
    "## Ejercicio 8"
   ]
  },
  {
   "cell_type": "markdown",
   "metadata": {},
   "source": [
    "El archivo `power_consumption.csv` contiene mediciones de consumo de potencia en una casa. Estas mediciones tiene una frecuencia de 1 minuto y sus columnas se describen a continuación:\n",
    "\n",
    "- DateTime: Index information\n",
    "- global_active_power: The total active power consumed by the household (kilowatts).\n",
    "- global_reactive_power: The total reactive power consumed by the household (kilowatts).\n",
    "- voltage: Average voltage (volts).\n",
    "- global_intensity: Average current intensity (amps).\n",
    "- sub_metering_1: Active energy for kitchen (watt-hours of active energy).\n",
    "- sub_metering_2: Active energy for laundry (watt-hours of active energy).\n",
    "- sub_metering_3: Active energy for climate control systems (watt-hours of active energy)."
   ]
  },
  {
   "cell_type": "markdown",
   "metadata": {},
   "source": [
    "Se requiere analizar los valores máximos de consumo del hogar en lapsos de tiempo de 15 minutos, en vez de 1 minuto. Entonces, el `DataFrame` deberá ser re-sampleado a una frecuencia de 15 minutos. Adicionalmente, se requieren encontrar los outliers (valores anómalos) en términos de potencia activa y reactiva. Para ello, un valor de potencia activa se considera anómalo si sobrepasa los 4 kwh. Así mismo, un valor de potencia reactiva se considera anómalo si sobrepasa los 0.5 kwh.\n",
    "\n",
    "Genere tres `DataFrames`: (1) con la información original re-sampleada a 15 minutos, tomando en cuenta los valores máximos; (2) con los outliers de potencia activa; y, (3) con los outliers de potencia reactiva.\n",
    "\n",
    "Ejecute la función `mostrar_potencia(d, dogap, dogrp)` mandando como parámetros, los tres dataframes formados anteriormente.\n",
    "\n",
    "Finalmente, mostrar las fechas en las que estos outliers sucedieron."
   ]
  },
  {
   "cell_type": "code",
   "execution_count": 262,
   "metadata": {},
   "outputs": [
    {
     "name": "stdout",
     "output_type": "stream",
     "text": [
      "Fechas en las que existen outliers de consumo de potencia activa: \n",
      "2007-02-02 06:30:00\n",
      "2007-02-02 22:30:00\n",
      "2007-02-02 22:45:00\n",
      "2007-02-02 23:00:00\n",
      "Fechas en las que existen outliers de consumo de potencia reactiva: \n",
      "2007-02-01 17:15:00\n",
      "2007-02-01 17:30:00\n",
      "2007-02-01 18:00:00\n",
      "2007-02-01 18:15:00\n",
      "2007-02-01 19:45:00\n",
      "2007-02-01 20:00:00\n"
     ]
    },
    {
     "data": {
      "image/png": "[encoded data removed]",
      "text/plain": [
       "<Figure size 1296x216 with 2 Axes>"
      ]
     },
     "metadata": {},
     "output_type": "display_data"
    }
   ],
   "source": [
    "def mostrar_potencia(d, dogap, dogrp):\n",
    "    \"\"\"Muestra información de temperatura y humedad del DataFrame `d`\n",
    "    \n",
    "    Parametros\n",
    "    ----------\n",
    "    d: DataFrame\n",
    "      DataFrame con la información de potencia, voltaje, intensidad, etc. con frecuencia de 15 minutos\n",
    "       \n",
    "    dogap: DataFrame\n",
    "      DataFrame con los valores outliers de la potencia activa\n",
    "      \n",
    "    dogrp: DataFrame\n",
    "      DataFrame con los valores outliers de la potencia reactiva\n",
    "    \"\"\"\n",
    "    fig, ax = plt.subplots(2, 1, figsize=(18, 3), sharex=True)\n",
    "    d[\"Global_active_power\"].plot(ax=ax[0])\n",
    "    d[\"Global_reactive_power\"].plot(ax=ax[1])\n",
    "    \n",
    "    dogap[\"Global_active_power\"].plot(ax=ax[0], style=\"o\")\n",
    "    \n",
    "    dogrp[\"Global_reactive_power\"].plot(ax=ax[1], style=\"o\")\n",
    "\n",
    "\n",
    "# Ingrese su código aquí\n",
    "\n",
    "# lectura del DataFrame    \n",
    "ds = pd.read_csv(\"power_consumption.csv\", index_col=0, parse_dates=[0])\n",
    "\n",
    "# resampleo a 15 minutos\n",
    "ds = ds.resample(\"15min\").max()\n",
    "\n",
    "# se muestran los resultados\n",
    "mostrar_potencia(\n",
    "    ds,   # dataframe original\n",
    "    ds.loc[ds[\"Global_active_power\"]>4],  # dataframe con los outliers de potencia activa\n",
    "    ds.loc[ds[\"Global_reactive_power\"]>0.5]  # dataframe con los outliers de potencia reactiva\n",
    ")\n",
    "\n",
    "print(\"Fechas en las que existen outliers de consumo de potencia activa: \")\n",
    "for f in ds.loc[ds[\"Global_active_power\"]>4].index:\n",
    "    print(f)\n",
    "\n",
    "print(\"Fechas en las que existen outliers de consumo de potencia reactiva: \")    \n",
    "for f in ds.loc[ds[\"Global_reactive_power\"]>0.5].index:\n",
    "    print(f)"
   ]
  },
  {
   "cell_type": "markdown",
   "metadata": {},
   "source": [
    "## Ejercicio 9"
   ]
  },
  {
   "cell_type": "markdown",
   "metadata": {},
   "source": [
    "El archivo `PJME_hourly.csv` contiene información sobre el consumo energético en megawats en una ciudad. Se requiere conocer el comportamiento del consumo energético durante los días de trabajo (lunes a viernes) y los fines de semana. Compare el consumo promedio entre estas dos categorías.  La hipótesis que maneja la ciudad es que el consumo el fin de semana se reduce sustancialmente."
   ]
  },
  {
   "cell_type": "markdown",
   "metadata": {},
   "source": [
    "Ejecute el código a continuación para visualizar el comportamiento del consumo energético en función del tiempo"
   ]
  },
  {
   "cell_type": "code",
   "execution_count": 304,
   "metadata": {},
   "outputs": [
    {
     "data": {
      "text/plain": [
       "<matplotlib.axes._subplots.AxesSubplot at 0x2d8dc2bb208>"
      ]
     },
     "execution_count": 304,
     "metadata": {},
     "output_type": "execute_result"
    },
    {
     "data": {
      "image/png": "[encoded data removed]",
      "text/plain": [
       "<Figure size 1296x216 with 1 Axes>"
      ]
     },
     "metadata": {},
     "output_type": "display_data"
    }
   ],
   "source": [
    "fig, ax = plt.subplots(1, 1, figsize=(18, 3))\n",
    "\n",
    "ds = pd.read_csv(\"PJME_hourly.csv\", index_col=0, parse_dates=[0])\n",
    "ds.plot(ax=ax)"
   ]
  },
  {
   "cell_type": "code",
   "execution_count": 284,
   "metadata": {},
   "outputs": [
    {
     "data": {
      "text/plain": [
       "tipo_dia\n",
       "dia trabajo      32257.0\n",
       "fin de semana    28864.0\n",
       "dtype: float64"
      ]
     },
     "execution_count": 284,
     "metadata": {},
     "output_type": "execute_result"
    }
   ],
   "source": [
    "# Inserte su código aquí\n",
    "\n",
    "ds = pd.read_csv(\"PJME_hourly.csv\", index_col=0, parse_dates=[0])\n",
    "\n",
    "# se crea una nueva columna con la categoría del día\n",
    "f = lambda dw: \"dia trabajo\" if dw < 5 else \"fin de semana\"\n",
    "ds[\"tipo_dia\"] = list(map(f, ds.index.dayofweek))\n",
    "\n",
    "# se agrupa por esta categoría y se calcula la mediana de los valores de consumo\n",
    "ds.groupby(\"tipo_dia\").apply(np.median)"
   ]
  },
  {
   "cell_type": "markdown",
   "metadata": {},
   "source": [
    "## Ejercicio 10"
   ]
  },
  {
   "cell_type": "markdown",
   "metadata": {},
   "source": [
    "Se requiere hacer una comparación del coportamiento del consumo energético por año (2002 - 2018). Se mostrará en forma de un tabla los valores medios de consumo, valores máximos y mínimos.  La ciudad espera que durante este lapso de tiempo, el consumo energético decreció debido a las múltiples medidas tomadas. ¿Se puede decir que el consumo energético promedio ha decrecido en estos años?\n",
    "\n",
    "Ayuda: puede usar la función `agg()`"
   ]
  },
  {
   "cell_type": "code",
   "execution_count": 307,
   "metadata": {},
   "outputs": [
    {
     "data": {
      "text/html": [
       "<div>\n",
       "<style scoped>\n",
       "    .dataframe tbody tr th:only-of-type {\n",
       "        vertical-align: middle;\n",
       "    }\n",
       "\n",
       "    .dataframe tbody tr th {\n",
       "        vertical-align: top;\n",
       "    }\n",
       "\n",
       "    .dataframe thead tr th {\n",
       "        text-align: left;\n",
       "    }\n",
       "\n",
       "    .dataframe thead tr:last-of-type th {\n",
       "        text-align: right;\n",
       "    }\n",
       "</style>\n",
       "<table border=\"1\" class=\"dataframe\">\n",
       "  <thead>\n",
       "    <tr>\n",
       "      <th></th>\n",
       "      <th colspan=\"3\" halign=\"left\">PJME_MW</th>\n",
       "    </tr>\n",
       "    <tr>\n",
       "      <th></th>\n",
       "      <th>mean</th>\n",
       "      <th>max</th>\n",
       "      <th>min</th>\n",
       "    </tr>\n",
       "    <tr>\n",
       "      <th>anio</th>\n",
       "      <th></th>\n",
       "      <th></th>\n",
       "      <th></th>\n",
       "    </tr>\n",
       "  </thead>\n",
       "  <tbody>\n",
       "    <tr>\n",
       "      <th>2002</th>\n",
       "      <td>31565.617106</td>\n",
       "      <td>55934.0</td>\n",
       "      <td>19247.0</td>\n",
       "    </tr>\n",
       "    <tr>\n",
       "      <th>2003</th>\n",
       "      <td>31698.758621</td>\n",
       "      <td>53737.0</td>\n",
       "      <td>19414.0</td>\n",
       "    </tr>\n",
       "    <tr>\n",
       "      <th>2004</th>\n",
       "      <td>32270.434867</td>\n",
       "      <td>51962.0</td>\n",
       "      <td>19543.0</td>\n",
       "    </tr>\n",
       "    <tr>\n",
       "      <th>2005</th>\n",
       "      <td>33310.478648</td>\n",
       "      <td>59031.0</td>\n",
       "      <td>19825.0</td>\n",
       "    </tr>\n",
       "    <tr>\n",
       "      <th>2006</th>\n",
       "      <td>32409.269696</td>\n",
       "      <td>62009.0</td>\n",
       "      <td>19690.0</td>\n",
       "    </tr>\n",
       "    <tr>\n",
       "      <th>2007</th>\n",
       "      <td>33613.468600</td>\n",
       "      <td>59437.0</td>\n",
       "      <td>20761.0</td>\n",
       "    </tr>\n",
       "    <tr>\n",
       "      <th>2008</th>\n",
       "      <td>32929.593373</td>\n",
       "      <td>59655.0</td>\n",
       "      <td>20553.0</td>\n",
       "    </tr>\n",
       "    <tr>\n",
       "      <th>2009</th>\n",
       "      <td>31851.533683</td>\n",
       "      <td>55433.0</td>\n",
       "      <td>20207.0</td>\n",
       "    </tr>\n",
       "    <tr>\n",
       "      <th>2010</th>\n",
       "      <td>33101.172662</td>\n",
       "      <td>59807.0</td>\n",
       "      <td>20020.0</td>\n",
       "    </tr>\n",
       "    <tr>\n",
       "      <th>2011</th>\n",
       "      <td>32368.308518</td>\n",
       "      <td>61646.0</td>\n",
       "      <td>20122.0</td>\n",
       "    </tr>\n",
       "    <tr>\n",
       "      <th>2012</th>\n",
       "      <td>31440.107265</td>\n",
       "      <td>58999.0</td>\n",
       "      <td>14544.0</td>\n",
       "    </tr>\n",
       "    <tr>\n",
       "      <th>2013</th>\n",
       "      <td>31706.525120</td>\n",
       "      <td>59122.0</td>\n",
       "      <td>19622.0</td>\n",
       "    </tr>\n",
       "    <tr>\n",
       "      <th>2014</th>\n",
       "      <td>31496.406963</td>\n",
       "      <td>54945.0</td>\n",
       "      <td>19623.0</td>\n",
       "    </tr>\n",
       "    <tr>\n",
       "      <th>2015</th>\n",
       "      <td>31709.394178</td>\n",
       "      <td>55129.0</td>\n",
       "      <td>19450.0</td>\n",
       "    </tr>\n",
       "    <tr>\n",
       "      <th>2016</th>\n",
       "      <td>31337.833106</td>\n",
       "      <td>56391.0</td>\n",
       "      <td>19524.0</td>\n",
       "    </tr>\n",
       "    <tr>\n",
       "      <th>2017</th>\n",
       "      <td>30650.911644</td>\n",
       "      <td>55218.0</td>\n",
       "      <td>19255.0</td>\n",
       "    </tr>\n",
       "    <tr>\n",
       "      <th>2018</th>\n",
       "      <td>31782.598715</td>\n",
       "      <td>56609.0</td>\n",
       "      <td>19937.0</td>\n",
       "    </tr>\n",
       "  </tbody>\n",
       "</table>\n",
       "</div>"
      ],
      "text/plain": [
       "           PJME_MW                  \n",
       "              mean      max      min\n",
       "anio                                \n",
       "2002  31565.617106  55934.0  19247.0\n",
       "2003  31698.758621  53737.0  19414.0\n",
       "2004  32270.434867  51962.0  19543.0\n",
       "2005  33310.478648  59031.0  19825.0\n",
       "2006  32409.269696  62009.0  19690.0\n",
       "2007  33613.468600  59437.0  20761.0\n",
       "2008  32929.593373  59655.0  20553.0\n",
       "2009  31851.533683  55433.0  20207.0\n",
       "2010  33101.172662  59807.0  20020.0\n",
       "2011  32368.308518  61646.0  20122.0\n",
       "2012  31440.107265  58999.0  14544.0\n",
       "2013  31706.525120  59122.0  19622.0\n",
       "2014  31496.406963  54945.0  19623.0\n",
       "2015  31709.394178  55129.0  19450.0\n",
       "2016  31337.833106  56391.0  19524.0\n",
       "2017  30650.911644  55218.0  19255.0\n",
       "2018  31782.598715  56609.0  19937.0"
      ]
     },
     "execution_count": 307,
     "metadata": {},
     "output_type": "execute_result"
    }
   ],
   "source": [
    "# Inserte su código aquí\n",
    "\n",
    "ds = pd.read_csv(\"PJME_hourly.csv\", index_col=0, parse_dates=[0])\n",
    "\n",
    "# se crea una nueva columna anio\n",
    "ds[\"anio\"] = ds.index.year\n",
    "\n",
    "# se calculan los valores, luego de haberlos agrupado\n",
    "ds.groupby(\"anio\").agg([\"mean\", \"max\", \"min\"])"
   ]
  }
 ],
 "metadata": {
  "kernelspec": {
   "display_name": "Python 3",
   "language": "python",
   "name": "python3"
  },
  "language_info": {
   "codemirror_mode": {
    "name": "ipython",
    "version": 3
   },
   "file_extension": ".py",
   "mimetype": "text/x-python",
   "name": "python",
   "nbconvert_exporter": "python",
   "pygments_lexer": "ipython3",
   "version": "3.7.3"
  }
 },
 "nbformat": 4,
 "nbformat_minor": 2
}
