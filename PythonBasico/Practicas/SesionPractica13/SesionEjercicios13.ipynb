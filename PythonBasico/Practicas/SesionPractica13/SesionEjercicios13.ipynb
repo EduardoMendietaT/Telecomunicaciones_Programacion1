{
 "cells": [
  {
   "cell_type": "markdown",
   "metadata": {},
   "source": [
    "# Sesión de ejercicios 12"
   ]
  },
  {
   "cell_type": "markdown",
   "metadata": {},
   "source": [
    "El objetivo de esta sesión de ejercicios es que el alumno aplique conceptos de programación defensiva a la implementación de sus programas. La programación defensiva promueve la idea de que el código puede fallar, y que una vez que falle, hay que tratar de capturar los posibles errores para que no se propaguen por el código.  Además, el alumno practicará una habilidad clave para los programadores: debugging"
   ]
  },
  {
   "cell_type": "markdown",
   "metadata": {},
   "source": [
    "## Ejercicio 1"
   ]
  },
  {
   "cell_type": "markdown",
   "metadata": {},
   "source": [
    "Se requiere construir un programa que encuentre las raíces de una función del tipo $ax^2 + bx + c = 0$. Los valores de los coeficientes: $a, b, c$ serán estáticos y puestos manualmente en el código. Para este ejercicio, crear una función `calcula_raiz(a, b, c)` y colocar los `assert` necesarios al inicio de la función para validar las entradas.\n",
    "\n",
    "Nota: se debe validar que las entradas sean numéricas\n"
   ]
  },
  {
   "cell_type": "code",
   "execution_count": 1,
   "metadata": {},
   "outputs": [],
   "source": [
    "# ingrese su código aqui\n",
    "\n"
   ]
  },
  {
   "cell_type": "markdown",
   "metadata": {},
   "source": [
    "## Ejercicio 2"
   ]
  },
  {
   "cell_type": "markdown",
   "metadata": {},
   "source": [
    "Tomando como base el ejercicio anterior, crear una función `test_calcula_raiz()` donde se deberán crear varios casos de prueba para asegurar que los resultados de la función `calcula_raiz` sean correctos"
   ]
  },
  {
   "cell_type": "code",
   "execution_count": 2,
   "metadata": {},
   "outputs": [],
   "source": [
    "# insertar su código aquí\n",
    "\n"
   ]
  },
  {
   "cell_type": "markdown",
   "metadata": {},
   "source": [
    "## Ejercicio 3"
   ]
  },
  {
   "cell_type": "markdown",
   "metadata": {},
   "source": [
    "Cree y pruebe una función que convierta una fecha en formato MM/DD/YYYY a DDMMYYYY\n",
    "\n",
    "Ejemplos: <br>\n",
    "Entrada: 12/07/1971 <br>\n",
    "Salida: 07121971 <br>\n",
    "\n",
    "La implementación deberá tener en cuenta que los valores de meses, días, años son numéricos, mayores a 0, y deben ser válidos. Por ejemplo, no existe un més 13, ni un día 30 si es Febrero. Además, se deberá tener cuenta si el año es biciesto para determinar los valores posibles para Febrero.\n",
    "\n",
    "Nota: si el mes o día de entrada tienen la forma 0x, donde $x$ es un entero, la fecha transformada deberá mantener esta forma, e.j. si día es 07, el día transformado también deberá ser 07 y no 7"
   ]
  },
  {
   "cell_type": "code",
   "execution_count": 3,
   "metadata": {},
   "outputs": [],
   "source": [
    "# insertar su código aquí\n",
    "\n"
   ]
  },
  {
   "cell_type": "markdown",
   "metadata": {},
   "source": [
    "## Ejercicio 4"
   ]
  },
  {
   "cell_type": "markdown",
   "metadata": {},
   "source": [
    "El volumen de una concha esférica es la diferencia entre el volumen de la esfera exterior y la esfera inferior. Su fórmula es la siguiente: $4/3 \\pi  (R^3 - r^3)$\n",
    "\n",
    "Crear una función que tome como parámetros dos arrays de numpy de tipo flotante (`R` y `r`), donde $R_i$ y $r_i$ son los valores de radio exterior e inferior para la esfera $i$. La función retornará un array de numpy con los valores de volumen calculados para todas las esferas $i$.\n",
    "\n",
    "Para este ejercicio deberá crear valores de prueba para $R$ y $r$ de forma aleatoria. La función que calcula el volumen deberá probar que los tipos de datos de entrada, i.e. $R$ y $r$, sean los correctos. También que ambos arrays tengan el mismo número de elementos. Adicionalmente, que $R_i > r_i, \\forall i$\n",
    "\n",
    "Cree una función para probar que su implementación funcione correctamente. Valores de prueba:\n",
    "\n",
    "- con R=3 y r=3, salida: 0\n",
    "- con R=7 y r=2, salida: ~1403.2447 \n",
    "\n",
    "<img src=\"figura1.png\">"
   ]
  },
  {
   "cell_type": "code",
   "execution_count": 4,
   "metadata": {},
   "outputs": [],
   "source": [
    "# inserte su código aquí\n",
    "\n"
   ]
  },
  {
   "cell_type": "markdown",
   "metadata": {},
   "source": [
    "## Ejercicio 5"
   ]
  },
  {
   "cell_type": "markdown",
   "metadata": {},
   "source": [
    "Cree un programa que pida al usuario una entrada del tipo `num1:num2:num3-coef1:coef2:coef3`, donde $num_i$ es un valor de tipo `int` y $coef_i$ es un número de tipo `float`.\n",
    "\n",
    "Para este ejercicio use el estamento `try ... except` y `asserts` para capturar posibles errores de formato. De existir algun problema en el tipo de datos, el programa pedirá nuevamente la entrada al usuario. De existir un error de entrada, se mostrará un mensaje adecuado al usuario indicando el posible error. Este proceso se repetirá hasta que la entrada provista por el usuario esté correcta. Finalmente, el programa mostrará $\\sum num_i coef_i$"
   ]
  },
  {
   "cell_type": "code",
   "execution_count": 5,
   "metadata": {},
   "outputs": [],
   "source": [
    "# inserte su código aquí\n"
   ]
  },
  {
   "cell_type": "markdown",
   "metadata": {},
   "source": [
    "## Ejercicio 6"
   ]
  },
  {
   "cell_type": "markdown",
   "metadata": {},
   "source": [
    "Este ejercicio tiene por objetivo que el estudiante practique en sus habilidades de diseño de programas.Para un correcto diseño de programas se deben seguir los siugientes lineamientos:\n",
    "\n",
    "1) Especificar el conjunto de funciones a usar. Por cada función se debe establecer:\n",
    "- El nombre de la función\n",
    "- El docstring de cada función (entradas, salidas, tipos de datos, descripción)\n",
    "\n",
    "2) Bosquejar la implementación de la función. Se puede usar lenguaje natural para describir que se va a implementar\n"
   ]
  },
  {
   "cell_type": "markdown",
   "metadata": {},
   "source": [
    "La funcionalidad a implementar es la siguiente: Se requiere un programa que lea un archivo de texto (`texto.txt`) y muestre los siguientes resultados:\n",
    "\n",
    "- El número de palabras en el archivo\n",
    "- Las 10 palabras más frecuentes en el texto\n",
    "- El número de veces que se repite una palabra\n",
    "\n",
    "El programa pedirá al usuario que ingrese el nombre del archivo y la palabra a buscar.  Adicionalmente, el programa deberá tener todas las características de programación defensiva (correcto uso de `try ... except` y `asserts`)\n",
    "\n",
    "Nota: debe tener en cuenta todas las posibles fallas que podría haber en el programa, e.j. el archivo no existe, se ingresó una palabra vacía, se ingresó un número negativo para palabras frecuentes, etc.  De encontrarse un error, el programa deberá parar su ejecución mostrando un mensaje entendible para el usuario."
   ]
  },
  {
   "cell_type": "code",
   "execution_count": 6,
   "metadata": {},
   "outputs": [],
   "source": [
    "# Insertar el código aquí\n",
    "\n"
   ]
  }
 ],
 "metadata": {
  "kernelspec": {
   "display_name": "Python 3",
   "language": "python",
   "name": "python3"
  },
  "language_info": {
   "codemirror_mode": {
    "name": "ipython",
    "version": 3
   },
   "file_extension": ".py",
   "mimetype": "text/x-python",
   "name": "python",
   "nbconvert_exporter": "python",
   "pygments_lexer": "ipython3",
   "version": "3.7.3"
  },
  "widgets": {
   "application/vnd.jupyter.widget-state+json": {
    "state": {},
    "version_major": 2,
    "version_minor": 0
   }
  }
 },
 "nbformat": 4,
 "nbformat_minor": 4
}
