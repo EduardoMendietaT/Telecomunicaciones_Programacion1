{
 "cells": [
  {
   "cell_type": "markdown",
   "metadata": {},
   "source": [
    "# Sesión de ejercicios 13"
   ]
  },
  {
   "cell_type": "markdown",
   "metadata": {},
   "source": [
    "El objetivo de esta sesión de ejercicios es que el estudiante entienda los conceptos fundamentales de la complejidad computacional: por que algunos algoritmos son más rápidos que otros, los tipos de complejidad, y como hacer que un algoritmo se ejecute más rápidamente."
   ]
  },
  {
   "cell_type": "markdown",
   "metadata": {},
   "source": [
    "## Ejercicio 1"
   ]
  },
  {
   "cell_type": "markdown",
   "metadata": {},
   "source": [
    "Para esta sesión de ejercicios se tendrá que medir la velocidad de ejecución de un programa. Para ello, se utilizará la función `time()` el paquete `time`. Si bien la velocidad de ejecución de un programa depende de varios factores (hardware, sistema operativo, memoria RAM disponible), los programas se ejecutarán en la misma computadora; por ende, las comparaciones de velocidad de ejecución son válidas.\n",
    "\n",
    "El siguiente ejemplo calcula el tiempo de ejecución de los comandos ejecutados entre las variables `inicio` y `fin`. El resultado se muestra en segundos."
   ]
  },
  {
   "cell_type": "code",
   "execution_count": 14,
   "metadata": {},
   "outputs": [],
   "source": [
    "import time\n",
    "import numpy as np\n",
    "import matplotlib.pylab as plt\n",
    "import seaborn as sns\n",
    "sns.set()\n",
    "\n",
    "%matplotlib inline"
   ]
  },
  {
   "cell_type": "code",
   "execution_count": null,
   "metadata": {
    "scrolled": true
   },
   "outputs": [],
   "source": [
    "inicio = time.time()  # inicio del conteo del tiempo\n",
    "x = 0\n",
    "for i in range(100000000):\n",
    "    x += i\n",
    "fin = time.time()  # fin del conteo del tiempo\n",
    "print(fin - inicio) # se calcula la diferencia de tiempos"
   ]
  },
  {
   "cell_type": "markdown",
   "metadata": {},
   "source": [
    "Escriba una función `calcular_suma_lista()` que reciba una lista como parámetro. Esta función retornará la sumatoria de todos los elementos de la lista. Este valor deberá ser calculado utilizando una variable acumuladora y un `for`. Además, genere listas con números aleatorios con los siguientes tamaños: [90, 900, 9000, 90000, 900000, 9000000, 10000000, 40000000, 60000000, 90000000]. Los elementos de estas listas tendrán un rango de 0 a 9. Calcule cuanto tiempo le toma a la función calcular un valor para todas las listas generadas. Al final muestre un gráfico de línea donde se muestre la evolución del tiempo de ejecución de la función del número de elementos de la lista."
   ]
  },
  {
   "cell_type": "code",
   "execution_count": null,
   "metadata": {},
   "outputs": [],
   "source": [
    "# Inserte su código aquí\n",
    "\n"
   ]
  },
  {
   "cell_type": "markdown",
   "metadata": {},
   "source": [
    "Si implementó correctamente el ejercicio, se debería ver una función lineal. Por lo tanto, esta función tiene una complejidad computacional de $O(n)$"
   ]
  },
  {
   "cell_type": "markdown",
   "metadata": {},
   "source": [
    "## Ejercicio 2"
   ]
  },
  {
   "cell_type": "markdown",
   "metadata": {},
   "source": [
    "Realice la misma implementación que el ejercicio 1, pero esta vez use arrays de numpy y la función `sum` de numpy. ¿Existe alguna diferencia de rendimiento?"
   ]
  },
  {
   "cell_type": "code",
   "execution_count": null,
   "metadata": {
    "scrolled": true
   },
   "outputs": [],
   "source": [
    "# Inserte su código aquí\n",
    "\n"
   ]
  },
  {
   "cell_type": "markdown",
   "metadata": {},
   "source": [
    "Si bien la complejidad de esta función permanece lineal, su rendimiento mejoró ostensiblemente"
   ]
  },
  {
   "cell_type": "markdown",
   "metadata": {},
   "source": [
    "## Ejercicio 3"
   ]
  },
  {
   "cell_type": "markdown",
   "metadata": {},
   "source": [
    "Usando como base los ejercicios anteriores, muestre un gráfico con 3 curvas. La primera con los valores de tiempo calculados usando una lista y un `for` (ejercicio 1); la segunda con los valores calculados usando `numpy` (ejercicio 2); y, la tercera usando los valores calculados mediante una lista y la función `sum` (`sum(lista)`)."
   ]
  },
  {
   "cell_type": "code",
   "execution_count": null,
   "metadata": {
    "scrolled": true
   },
   "outputs": [],
   "source": [
    "# Inserte su código aquí\n",
    "\n"
   ]
  },
  {
   "cell_type": "markdown",
   "metadata": {},
   "source": [
    "## Ejercicio 4"
   ]
  },
  {
   "cell_type": "markdown",
   "metadata": {},
   "source": [
    "Implemente tres funciones `crear_pares` que reciban como parámetros 2 listas. La primera implementación será la misma que en el ejemplo \"Implementación usando dos bucles anidados (Ineficiente!)\"; la segunda será la misma que en el ejemplo \"Implementación usando un bucle (Más eficiente)\"; y, la tercera usando la función `column_stack` del paquete `numpy`. Genere listas de forma aleatoria usando los siguientes tamaños: 10, 100, 1000, 10000, 15000, 22000, 30000. Calcule el tiempo de ejecución para cada función y muestre los resultados en un gráfico de líneas donde se muestren los resultados del rendimiento de cada función."
   ]
  },
  {
   "cell_type": "code",
   "execution_count": null,
   "metadata": {
    "scrolled": true
   },
   "outputs": [],
   "source": [
    "# Inserte su código aquí\n",
    "\n"
   ]
  },
  {
   "cell_type": "markdown",
   "metadata": {},
   "source": [
    "Se evidencia que la función que crea pares usando dos bucles crece de forma exponencial. Por ende, tiene una complejidad de tipo $O(n^2)$ en comparación con las otras 2 implementaciones que tienen una complejidad lineal $O(n)$"
   ]
  },
  {
   "cell_type": "markdown",
   "metadata": {},
   "source": [
    "## Ejercicio 5"
   ]
  },
  {
   "cell_type": "markdown",
   "metadata": {},
   "source": [
    "Uno de los algoritmos más simples de ordenamiento es el de la Burbuja. Este algoritmo tiene una complejidad $O(n^2)$. Para este ejercicio, implemente el ordenamiento de la Burbuja como una función (puede buscar la implementación en internet y averiguar su funcionamiento). Luego, comparar su eficiencia con respecto a la función `sort` del paquete `numpy` para los siguientes tamaños de array [10, 100, 1000, 10000, 15000, 22000, 30000]. Los arrays de elementos serán generados de forma aleatoria y tendrán valores de tipo entero."
   ]
  },
  {
   "cell_type": "code",
   "execution_count": null,
   "metadata": {
    "scrolled": true
   },
   "outputs": [],
   "source": [
    "# Inserte su código aquí\n",
    "\n"
   ]
  },
  {
   "cell_type": "markdown",
   "metadata": {},
   "source": [
    "## Ejercicio 6"
   ]
  },
  {
   "cell_type": "markdown",
   "metadata": {},
   "source": [
    "Genere una lista de 10000000 números enteros, cuyos elementos pueden ir de 0 a 1000000. Implemente la función `buscar_secuencial(x, num)` que reciba como parámetro una lista `x` y un número a buscar `num`. Esta función retornará el índice del elemento si lo encuentra; caso contrario, retornará -1. Genere 50 números enteros aleatorios entre 0 y 1000000 y ejecute la función `buscar_secuencial`. Por cada número generado, calcule el tiempo que le tomó a la función retornar un valor. Finalmente, construya un histograma con los valores de tiempo de ejecución."
   ]
  },
  {
   "cell_type": "code",
   "execution_count": null,
   "metadata": {
    "scrolled": true
   },
   "outputs": [],
   "source": [
    "# Inserte su código aquí\n",
    "\n"
   ]
  },
  {
   "cell_type": "markdown",
   "metadata": {},
   "source": [
    "## Ejercicio 7"
   ]
  },
  {
   "cell_type": "markdown",
   "metadata": {},
   "source": [
    "Tomando como base el ejercicio anterior, construya una lista de las mismas características pero esta vez ordénela usando el método `sort` del paquete `numpy`. Esta vez, calcule el tiempo que se demora en encontrar un valor en la lista usando la función `argwhere` del paquete `numpy`.  ¿Qué método de búsqueda es más eficiente?"
   ]
  },
  {
   "cell_type": "code",
   "execution_count": null,
   "metadata": {},
   "outputs": [],
   "source": [
    "# Inserte su código aquí\n",
    "\n"
   ]
  }
 ],
 "metadata": {
  "kernelspec": {
   "display_name": "Python 3",
   "language": "python",
   "name": "python3"
  },
  "language_info": {
   "codemirror_mode": {
    "name": "ipython",
    "version": 3
   },
   "file_extension": ".py",
   "mimetype": "text/x-python",
   "name": "python",
   "nbconvert_exporter": "python",
   "pygments_lexer": "ipython3",
   "version": "3.7.3"
  },
  "widgets": {
   "application/vnd.jupyter.widget-state+json": {
    "state": {},
    "version_major": 2,
    "version_minor": 0
   }
  }
 },
 "nbformat": 4,
 "nbformat_minor": 4
}
