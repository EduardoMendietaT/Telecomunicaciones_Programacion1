{
 "cells": [
  {
   "cell_type": "markdown",
   "metadata": {},
   "source": [
    "# Sesión de Ejercicios 3"
   ]
  },
  {
   "cell_type": "markdown",
   "metadata": {},
   "source": [
    "En esta sesión el estudiante desarrollará habilidades para manejar problemas que tengan código que deba repetirse; específicamente estamentos `for`"
   ]
  },
  {
   "cell_type": "markdown",
   "metadata": {},
   "source": [
    "## Entendiendo la indentación"
   ]
  },
  {
   "cell_type": "markdown",
   "metadata": {},
   "source": [
    "El correcto uso de la indentación en Python es primordial, ya que de lo contrario, Python no sabría donde comienza o termina un bloque de código. "
   ]
  },
  {
   "cell_type": "markdown",
   "metadata": {},
   "source": [
    "### Ejercicio 1"
   ]
  },
  {
   "cell_type": "markdown",
   "metadata": {},
   "source": [
    "Ejecute el siguiente bloque de código en donde la indentación es correcta"
   ]
  },
  {
   "cell_type": "code",
   "execution_count": null,
   "metadata": {},
   "outputs": [],
   "source": [
    "suma = 0\n",
    "for i in range(10):\n",
    "    suma += i\n",
    "    print(i)\n",
    "\n",
    "print(suma)"
   ]
  },
  {
   "cell_type": "markdown",
   "metadata": {},
   "source": [
    "Ahora ejecute el siguiente código, en donde la indentación no es la correcta"
   ]
  },
  {
   "cell_type": "code",
   "execution_count": null,
   "metadata": {},
   "outputs": [],
   "source": [
    "suma = 0\n",
    "for i in range(10):\n",
    "     suma += i\n",
    "    print(i)\n",
    "\n",
    "print(suma)"
   ]
  },
  {
   "cell_type": "markdown",
   "metadata": {},
   "source": [
    "Python chequea las indentaciones, y si no son correctas, genera un error en tiempo de ejecución"
   ]
  },
  {
   "cell_type": "markdown",
   "metadata": {},
   "source": [
    "## Uso de la función ´range()´ para generar secuencias de numeros"
   ]
  },
  {
   "cell_type": "markdown",
   "metadata": {},
   "source": [
    "### Ejercicio 2"
   ]
  },
  {
   "cell_type": "markdown",
   "metadata": {},
   "source": [
    "El uso de la función `range()` para generar listas y secuencias de valores es muy útil en Python. En este ejercicio se crearán varias secuencias de números usando la función `range()`.\n",
    "\n",
    "La sintaxís de `range()` es la siguiente:\n",
    "\n",
    "range(start, stop, step)\n",
    "\n",
    "Donde:\n",
    "- start: Opcional. Un entero especificando en que posición comenzar. Valor por defecto es 0\n",
    "- stop: Requerido. Un entero especificando un que posición terminar.\n",
    "- step: Opcional. Un entero especificando el incremento. Valor por defecto es 1.\n",
    "\n",
    "Por defecto, ´range()´ devuelve un valor del tipo ´range´. Si se desea utilizar el resultado como una lista, este valor debe ser convertido a lista con el comando ´list´\n",
    "\n",
    "Ejecutar y analizar el siguiente código:"
   ]
  },
  {
   "cell_type": "code",
   "execution_count": 1,
   "metadata": {},
   "outputs": [],
   "source": [
    "# Ejemplos de generacion de secuencias usando ´range()´\n",
    "\n",
    "# Generar valores del 0 a 5\n",
    "x = range(6)\n",
    "\n",
    "print(x)  # por defecto devuelve un valor del tipo range\n",
    "print(list(x))  # este valor puede ser convertido a una lista\n",
    "\n",
    "# generar valores del 20 al 30\n",
    "x = range(20, 31)\n",
    "\n",
    "print(list(x))\n",
    "\n",
    "# generar valores de 20 a 30 en incrementos de 2\n",
    "x = range(20, 31, 2)\n",
    "\n",
    "print(list(x))\n",
    "\n",
    "# generar valores del 20 al 10\n",
    "x = range(20, 9, -1)\n",
    "\n",
    "print(list(x))"
   ]
  },
  {
   "cell_type": "markdown",
   "metadata": {},
   "source": [
    "Generar una lista con números de 20 a 40, con incrementos de 5 y calcule su suma usando un ´for´"
   ]
  },
  {
   "cell_type": "code",
   "execution_count": 2,
   "metadata": {},
   "outputs": [],
   "source": [
    "# Ingrese su código aquí\n",
    "\n"
   ]
  },
  {
   "cell_type": "markdown",
   "metadata": {},
   "source": [
    "## Uso del estamento `for`"
   ]
  },
  {
   "cell_type": "markdown",
   "metadata": {},
   "source": [
    "El estamento `for` es usado para ejecutar varias veces un mismo bloque de código. Su característica principal es que se conocen de antemano el número de iteraciones que serán ejecutadas."
   ]
  },
  {
   "cell_type": "markdown",
   "metadata": {},
   "source": [
    "### Ejercicio 3"
   ]
  },
  {
   "cell_type": "markdown",
   "metadata": {},
   "source": [
    "Modifique el código del Ejercicio 1, para que en vez de mostrar la suma total de los elementos, muestre la multiplicación de los mismos"
   ]
  },
  {
   "cell_type": "code",
   "execution_count": 3,
   "metadata": {},
   "outputs": [],
   "source": [
    "# Ingrese su código aquí\n",
    "\n"
   ]
  },
  {
   "cell_type": "markdown",
   "metadata": {},
   "source": [
    "Si el restultado es 0, la implementación es correcta. Ahora modifique su código de forma tal que se muestre la multiplicación de los primeros 10 números mayores a 0.\n",
    "\n",
    "Ayuda: revise la función `range()` y como generar valores dentro de un rango"
   ]
  },
  {
   "cell_type": "code",
   "execution_count": 4,
   "metadata": {},
   "outputs": [],
   "source": [
    "# Ingrese su código aquí\n",
    "\n"
   ]
  },
  {
   "cell_type": "markdown",
   "metadata": {},
   "source": [
    "### Ejercicio 4"
   ]
  },
  {
   "cell_type": "markdown",
   "metadata": {},
   "source": [
    "Implemente un código que muestre los números enteros $x$ tal que $0 < x <= 30$ y $x$ sea par"
   ]
  },
  {
   "cell_type": "code",
   "execution_count": 5,
   "metadata": {},
   "outputs": [],
   "source": [
    "# Ingrese su codigo aqui\n",
    "\n"
   ]
  },
  {
   "cell_type": "markdown",
   "metadata": {},
   "source": [
    "Modifique su código para que muestre la suma de los numeros impares en el mismo rango"
   ]
  },
  {
   "cell_type": "code",
   "execution_count": 6,
   "metadata": {},
   "outputs": [],
   "source": [
    "# Ingrese su codigo aqui\n",
    "\n"
   ]
  },
  {
   "cell_type": "markdown",
   "metadata": {},
   "source": [
    "### Ejercicio 5"
   ]
  },
  {
   "cell_type": "markdown",
   "metadata": {},
   "source": [
    "Dada una lista con colores, pedir al usuario el ingreso de un color. Mostrar cuantas veces el color ingresado por el usuario esta presente en la lista predeterminada."
   ]
  },
  {
   "cell_type": "code",
   "execution_count": 8,
   "metadata": {},
   "outputs": [],
   "source": [
    "colores = ['amarillo', 'verde', 'rojo', 'azul', 'violeta', 'amarillo', 'violeta', 'amarillo']\n",
    "\n",
    "# Ingrese su codigo aqui\n",
    "\n"
   ]
  },
  {
   "cell_type": "markdown",
   "metadata": {},
   "source": [
    "### Ejercicio 6"
   ]
  },
  {
   "cell_type": "markdown",
   "metadata": {},
   "source": [
    "Para este ejercicio, el estudiante primero necesita aprender a concatenar variables/valores de tipo `str`. Para ello, se utiliza el operador suma `+`.\n",
    "\n",
    "Ejemplo:"
   ]
  },
  {
   "cell_type": "code",
   "execution_count": null,
   "metadata": {},
   "outputs": [],
   "source": [
    "# concatenar 2 valores de tipo string\n",
    "print(\"Palabra1\" + 'Palabra2')\n",
    "\n",
    "# concatenar 2 variables\n",
    "palabra1 = 'Casa'\n",
    "palabra2 = 'Arbol'\n",
    "print(palabra1 + ' ' + palabra2)\n",
    "\n",
    "# concatenar caracteres\n",
    "print('a' + 'b' + 'c' + 'd')"
   ]
  },
  {
   "cell_type": "markdown",
   "metadata": {},
   "source": [
    "Adicionalmente, para seleccionar parte de una cadena, se puede usar una funcionalidad denominada `slicing` en Python\n",
    "\n",
    "Ejemplo:"
   ]
  },
  {
   "cell_type": "code",
   "execution_count": null,
   "metadata": {},
   "outputs": [],
   "source": [
    "palabra = 'papaya'\n",
    "\n",
    "# mostrar toda la palabra, menos el ultimo caracter\n",
    "print(palabra[:-1]) # El caracter ´:´ significa seleccionar la cadena desde el inicio y el -1 implica donde debe terminar la seleccion\n",
    "\n",
    "# mostrar toda la palabra, menos los 2 ultimos caracteres\n",
    "print(palabra[:-2])"
   ]
  },
  {
   "cell_type": "markdown",
   "metadata": {},
   "source": [
    "Escribir un programa para construir el siguiente patron.\n",
    "\n",
    "`*` <br>\n",
    "`* *` <br>\n",
    "`* * *` <br>\n",
    "`* * * *` <br>\n",
    "`* * * * *` <br>\n",
    "`* * * *` <br>\n",
    "`* * *` <br>\n",
    "`* *` <br>\n",
    "`*` <br>"
   ]
  },
  {
   "cell_type": "code",
   "execution_count": 9,
   "metadata": {},
   "outputs": [],
   "source": [
    "# Ingrese su codigo aqui\n",
    "\n"
   ]
  },
  {
   "cell_type": "markdown",
   "metadata": {},
   "source": [
    "### Ejercicio 7"
   ]
  },
  {
   "cell_type": "markdown",
   "metadata": {},
   "source": [
    "Imprima los números $x_i$ tal que $x=[0, .., 100]$ y $x_i$ sea divisible para 5, pero no para 3"
   ]
  },
  {
   "cell_type": "code",
   "execution_count": 10,
   "metadata": {},
   "outputs": [],
   "source": [
    "# Ingrese su código aquí\n",
    "\n"
   ]
  },
  {
   "cell_type": "markdown",
   "metadata": {},
   "source": [
    "### Ejercicio 8"
   ]
  },
  {
   "cell_type": "markdown",
   "metadata": {},
   "source": [
    "En este ejercicio se pretende que el estudiante use `for` aninados. \n",
    "\n",
    "Se tienen 2 conjuntos de numeros enteros $x=[1,2, ...,10]$ y $y=[11, 12, ..., 15]$. Escribir un programa que muestre en pantalla todas las posibles combinaciones ${x_i, y_j}$"
   ]
  },
  {
   "cell_type": "code",
   "execution_count": 11,
   "metadata": {},
   "outputs": [],
   "source": [
    "# Escribir su código aquí\n",
    "\n"
   ]
  },
  {
   "cell_type": "markdown",
   "metadata": {},
   "source": [
    "### Ejercicio 9"
   ]
  },
  {
   "cell_type": "markdown",
   "metadata": {},
   "source": [
    "Modifique el código anterior de forma que solo muestre las combinaciones de números ${x_i, y_j}$ tal que $x_i + y_j \\le 20$"
   ]
  },
  {
   "cell_type": "code",
   "execution_count": 12,
   "metadata": {},
   "outputs": [],
   "source": [
    "# Escribir su código aquí\n",
    "\n"
   ]
  },
  {
   "cell_type": "markdown",
   "metadata": {},
   "source": [
    "### Ejercicio 10"
   ]
  },
  {
   "cell_type": "markdown",
   "metadata": {},
   "source": [
    "Para cada uno de los números $x_i$ tal que $x=[2, ..., 20]$ imprimir los números que son divisibles para $x_i$ excluyendo a 1 y $x_i$. Por ejemplo, si $x_i=18$, los números que lo dividen son: $[2, 3, 6, 9]$"
   ]
  },
  {
   "cell_type": "code",
   "execution_count": 13,
   "metadata": {},
   "outputs": [],
   "source": [
    "# Ingrese su código aquí\n",
    "\n"
   ]
  },
  {
   "cell_type": "markdown",
   "metadata": {},
   "source": [
    "### Ejercicio 11"
   ]
  },
  {
   "cell_type": "markdown",
   "metadata": {},
   "source": [
    "Escribir un programa para construir el siguiente patrón.\n",
    "\n",
    "1 <br>\n",
    "22 <br>\n",
    "333 <br>\n",
    "4444 <br>\n",
    "55555 <br>\n",
    "666666 <br>\n",
    "7777777 <br>\n",
    "88888888 <br>\n",
    "999999999 <br>\n",
    "\n",
    "Para este ejercicio utilizar `for` anidados"
   ]
  },
  {
   "cell_type": "code",
   "execution_count": 14,
   "metadata": {},
   "outputs": [],
   "source": [
    "# Ingrese su código aquí\n",
    "\n"
   ]
  },
  {
   "cell_type": "markdown",
   "metadata": {},
   "source": [
    "### Ejercicio 12"
   ]
  },
  {
   "cell_type": "markdown",
   "metadata": {},
   "source": [
    "Crear un programa que muestre la tabla de multiplicar de un número ingresado por el usuario. Por ejemplo, para un número $x=6$ el programa debe mostrar:\n",
    "\n",
    "6 x 1 = 6                                                               \n",
    "6 x 2 = 12                                                              \n",
    "6 x 3 = 18                                                              \n",
    "6 x 4 = 24                                                              \n",
    "6 x 5 = 30                                                              \n",
    "6 x 6 = 36                                                              \n",
    "6 x 7 = 42                                                              \n",
    "6 x 8 = 48                                                              \n",
    "6 x 9 = 54                                                              \n",
    "6 x 10 = 60"
   ]
  },
  {
   "cell_type": "code",
   "execution_count": 15,
   "metadata": {},
   "outputs": [],
   "source": [
    "# Ingrese su código aquí\n",
    "\n"
   ]
  },
  {
   "cell_type": "markdown",
   "metadata": {},
   "source": [
    "### Ejercicio 13"
   ]
  },
  {
   "cell_type": "markdown",
   "metadata": {},
   "source": [
    "La solución del ejercicio 7 de la sesión de ejercicios 2 puede ser mejorada con el uso de un `for`. Implemente el código necesario.  A continuación el enunciado del ejercicio:\n",
    "\n",
    "Se requiere comparar un número ingresado, $x$, con otros números previamente almacenados para determinar: <br>\n",
    "- Cuantos números iguales a $x$ existen.\n",
    "- Cuantos números mayores a $x$ existen\n",
    "- Cuantos números menores a $x$ existen"
   ]
  },
  {
   "cell_type": "code",
   "execution_count": null,
   "metadata": {},
   "outputs": [],
   "source": [
    "x = int(input(\"Ingrese el valor de x\"))\n",
    "\n",
    "# números previamente almacenados\n",
    "numeros = [10, 5, 4, 6, 3]\n",
    "\n",
    "# Ingrese su código aquí\n",
    "\n"
   ]
  }
 ],
 "metadata": {
  "kernelspec": {
   "display_name": "Python 3",
   "language": "python",
   "name": "python3"
  },
  "language_info": {
   "codemirror_mode": {
    "name": "ipython",
    "version": 3
   },
   "file_extension": ".py",
   "mimetype": "text/x-python",
   "name": "python",
   "nbconvert_exporter": "python",
   "pygments_lexer": "ipython3",
   "version": "3.7.3"
  },
  "widgets": {
   "application/vnd.jupyter.widget-state+json": {
    "state": {},
    "version_major": 2,
    "version_minor": 0
   }
  }
 },
 "nbformat": 4,
 "nbformat_minor": 4
}
