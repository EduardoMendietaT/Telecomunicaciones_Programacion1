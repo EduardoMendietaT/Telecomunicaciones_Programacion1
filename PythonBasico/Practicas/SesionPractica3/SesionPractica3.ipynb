{
 "cells": [
  {
   "cell_type": "markdown",
   "metadata": {},
   "source": [
    "# Sesión de Ejercicios 4"
   ]
  },
  {
   "cell_type": "markdown",
   "metadata": {},
   "source": [
    "Esta sesión pretende que el estudiante experimente y aprenda los distintos usos que se tienen con la sentencia de control `while`.\n",
    "\n",
    "Esta sentencia de control, a diferencia de la sentencia `for`, se utiliza cuando no se conoce de antemano la cantidad de iteraciones a realizarse"
   ]
  },
  {
   "cell_type": "markdown",
   "metadata": {},
   "source": [
    "## Ejercicio 1"
   ]
  },
  {
   "cell_type": "markdown",
   "metadata": {},
   "source": [
    "Analice el código a continuación poniendo especial énfasis en los comandos que modifican la variable contadora `i`. Cuando se utiliza el comando `while`, es imperativo actualizar la variable contadora, de lo contrario la condición para que se ejecute el bucle nunca cambiará, produciendo así el denomiado <strong>bucle infinito</strong>\n",
    "    \n",
    "A continuación se muestra el código para calcular la suma de los primeros 10 números comenzando dese el número 1."
   ]
  },
  {
   "cell_type": "code",
   "execution_count": 1,
   "metadata": {},
   "outputs": [
    {
     "name": "stdout",
     "output_type": "stream",
     "text": [
      "La suma de los primeros 10 números es:  55\n"
     ]
    }
   ],
   "source": [
    "i = 1  # inicialización del contador\n",
    "suma = 0  # inicialización de la variable contadora\n",
    "\n",
    "while i <=10:  # condición para que se ejecute el siguiente bloque de código\n",
    "    suma += i  # actualización de la variable acumuladora\n",
    "    i += 1  # actualización del contador\n",
    "    \n",
    "print(\"La suma de los primeros 10 números es: \", suma)"
   ]
  },
  {
   "cell_type": "markdown",
   "metadata": {},
   "source": [
    "En el código anterior, que pasaría si se elimna el comando `i += 1`?"
   ]
  },
  {
   "cell_type": "markdown",
   "metadata": {},
   "source": [
    "Modifique el código anterior para que, se muestren los números impares en el rango entre 1 y 10, y al final se muestre su suma.  Para este ejercicio utilizar la sentencia `while`"
   ]
  },
  {
   "cell_type": "code",
   "execution_count": null,
   "metadata": {},
   "outputs": [],
   "source": [
    "# Ingrese su código aquí\n",
    "\n"
   ]
  },
  {
   "cell_type": "markdown",
   "metadata": {},
   "source": [
    "Modifique el código anterior para resolver el mismo problema, pero esta vez utilizando une estamento `for`"
   ]
  },
  {
   "cell_type": "code",
   "execution_count": null,
   "metadata": {},
   "outputs": [],
   "source": [
    "# Ingrese su código aquí\n",
    "\n"
   ]
  },
  {
   "cell_type": "markdown",
   "metadata": {},
   "source": [
    "Para este problema, cual de las 2 alternativas, i.e. `for` o `while`, es más óptima?"
   ]
  },
  {
   "cell_type": "markdown",
   "metadata": {},
   "source": [
    "## Ejercicio 2"
   ]
  },
  {
   "cell_type": "markdown",
   "metadata": {},
   "source": [
    "Cree un algoritmo que pida al usuario que ingrese un número, si el número ingresado es 0, el programa termina su ejecución, caso contrario, se debe pedir nuevamente al usuario que ingrese otro número"
   ]
  },
  {
   "cell_type": "code",
   "execution_count": 1,
   "metadata": {},
   "outputs": [
    {
     "name": "stdout",
     "output_type": "stream",
     "text": [
      "aaa\n"
     ]
    }
   ],
   "source": [
    "# Ingrese su código aquí\n",
    "\n"
   ]
  },
  {
   "cell_type": "markdown",
   "metadata": {},
   "source": [
    "## Ejercicio 3"
   ]
  },
  {
   "cell_type": "markdown",
   "metadata": {},
   "source": [
    "La serie de Fibonacci es una secuencia $F=\\{f_o, f_1, f_2, f_3, ..., f_N \\}$, en donde $f_0 = 0$, $f_1=1$, y $f_i=f_{i-1} + f_{i-2}$ para $2 \\ge i \\le N$.\n",
    "\n",
    "Crear un algoritmo para que, ingresado un número $n > 2$, mostrar los $n$ dígitos correspondientes a la serie de Fibonacci. Por ejemplo: \n",
    "\n",
    "si $n=10$ <br>\n",
    "salida: 0 1 1 2 3 5 8 13 21 34"
   ]
  },
  {
   "cell_type": "code",
   "execution_count": null,
   "metadata": {},
   "outputs": [],
   "source": [
    "# Ingrese su código aquí\n",
    "\n"
   ]
  },
  {
   "cell_type": "markdown",
   "metadata": {},
   "source": [
    "## Ejercicio 4"
   ]
  },
  {
   "cell_type": "markdown",
   "metadata": {},
   "source": [
    "El uso de listas en Python es una de las ventajas más visibles del uso de este lenguaje. Entre sus beneficios se tiene la posibilidad de leer valores específicos en cualquier posición, selección un grupo de valores en base a alguna condición, etc.\n",
    "\n",
    "Como punto de entrada, se define una lista y se van a mostrar valores de la lista de distintas posiciones. Revise el código a continuación y verifique los resultados"
   ]
  },
  {
   "cell_type": "code",
   "execution_count": null,
   "metadata": {},
   "outputs": [],
   "source": [
    "l = [1, 4, 7, 2, 10]\n",
    "\n",
    "print(\"Pimer valor de la lista: \", l[0])\n",
    "print(\"Cuarto valor de la lista: \", l[3])\n",
    "print(\"Ultimo valor de la lista: \", l[-1])\n",
    "print(\"Penúltimo valor de la lista: \", l[-2])\n",
    "\n",
    "# Para conocer la cantidad de elementos que tiene una lista, se ejecuta la funcion len()\n",
    "print(\"La lista tiene \", len(l), \" elementos\")"
   ]
  },
  {
   "cell_type": "markdown",
   "metadata": {},
   "source": [
    "Como se evidencia, las listas se cuentan desde la posición $0$ hasta $n-1$, donde $n$ es la cantidad de elementos que almacena"
   ]
  },
  {
   "cell_type": "markdown",
   "metadata": {},
   "source": [
    "Otra de las operaciones típicas que se realizan con las listas son las concatenaciones. Concatenar listas implica unir 2 o más listas en una sola y se utiliza el operador `+`.\n",
    "\n",
    "A continuación un ejemplo de como concatenar listas"
   ]
  },
  {
   "cell_type": "code",
   "execution_count": null,
   "metadata": {},
   "outputs": [],
   "source": [
    "l1 = [1, 3, 5]\n",
    "l2 = [7, 9, 11]\n",
    "l3 = [10]  # también pueden existir listas de solo un elemento\n",
    "\n",
    "print(\"l1 y l2 concatenadas \", l1+l2)\n",
    "print(\"l2 y l3 concatenadas \", l2+l3)"
   ]
  },
  {
   "cell_type": "markdown",
   "metadata": {},
   "source": [
    "Un error típico es el intentar concatenar una lista con un valor entero o flotante. Esto genera un error en tiempo de ejecución.\n",
    "\n",
    "Recuerde, solo se pueden concatenar listas con listas.\n",
    "\n",
    "Ejecute el código a continuación, cual es la salida?"
   ]
  },
  {
   "cell_type": "code",
   "execution_count": null,
   "metadata": {},
   "outputs": [],
   "source": [
    "print(l1+3)"
   ]
  },
  {
   "cell_type": "markdown",
   "metadata": {},
   "source": [
    "Crear un algoritmo que concatene los valores del 1 al 10 a una lista ya existente, y la muestre en pantalla"
   ]
  },
  {
   "cell_type": "code",
   "execution_count": null,
   "metadata": {},
   "outputs": [],
   "source": [
    "l = [5, 1, 9]\n",
    "# Ingrese su código aquí\n",
    "\n"
   ]
  },
  {
   "cell_type": "markdown",
   "metadata": {},
   "source": [
    "## Ejercicio 5"
   ]
  },
  {
   "cell_type": "markdown",
   "metadata": {},
   "source": [
    "Modifique el código del `Ejercicio 3` para optimizarlo con el uso de listas"
   ]
  },
  {
   "cell_type": "code",
   "execution_count": null,
   "metadata": {},
   "outputs": [],
   "source": [
    "# Ingrese su código aquí\n",
    "\n"
   ]
  },
  {
   "cell_type": "markdown",
   "metadata": {},
   "source": [
    "## Ejercicio 6"
   ]
  },
  {
   "cell_type": "markdown",
   "metadata": {},
   "source": [
    "Escribir un programa para generar la siguiente secuencia: Se comienza con un numero $x_0$ y el siguiente numero $x_1$ se calcula de la siguiente manera:\n",
    "\n",
    "$x_{i+1} = \\begin{cases}x_i/2 &, x_i\\%2=0 \\\\\n",
    "3x_i+1 &, x_i\\%2<>0\\end{cases}$\n",
    "\n",
    "Si $x_i = 1$, se para la ejecucion, y la secuencia se habra construido de forma completa\n",
    "\n",
    "Por ejemplo, si $x_0=5$, la secuencia obtenida es la siguiente:\n",
    "\n",
    "5 16 8 4 2 1"
   ]
  },
  {
   "cell_type": "code",
   "execution_count": null,
   "metadata": {},
   "outputs": [],
   "source": [
    "# Ingrese su codigo aqui\n",
    "\n"
   ]
  },
  {
   "cell_type": "markdown",
   "metadata": {},
   "source": [
    "## Ejercicio 7"
   ]
  },
  {
   "cell_type": "markdown",
   "metadata": {},
   "source": [
    "Escriba un programa que iterativamente pida al usuario que ingrese numeros. Se mostrarán en pantalla unicamente los numeros que se consideren correctos; para ello, se definen las siguientes condiciones. Un número es correcto si:\n",
    "\n",
    "- Es divisible para 2 pero no para 10\n",
    "- Es positivo\n",
    "- Es menor a 100\n",
    "\n",
    "Para terminar el proceso de entrada de números y ejecucion del programa, el usuario debe ingresar -1"
   ]
  },
  {
   "cell_type": "code",
   "execution_count": null,
   "metadata": {},
   "outputs": [],
   "source": [
    "# Ingrese su código aquí\n",
    "\n"
   ]
  },
  {
   "cell_type": "markdown",
   "metadata": {},
   "source": [
    "## Ejercicio 8"
   ]
  },
  {
   "cell_type": "markdown",
   "metadata": {},
   "source": [
    "Se tienen 2 listas de numeros enteros previamente ingresadas, i.e. $x, y$. Se requiere crear un programa para mostrar las distintas combinaciones de elementos $x_i, y_j$ tales que $(x_i + y_j) \\le 100$ y $(x_i*y_j)\\%2 == 0$. Si estas condiciones no son ciertas, la ejecucion del programa terminara"
   ]
  },
  {
   "cell_type": "code",
   "execution_count": null,
   "metadata": {},
   "outputs": [],
   "source": [
    "l1 = [10, 11, 30]\n",
    "l2 = [2, 4, 3]\n",
    "\n",
    "# Ingrese su codigo aqui\n",
    "\n"
   ]
  },
  {
   "cell_type": "markdown",
   "metadata": {},
   "source": [
    "## Ejercicio 9"
   ]
  },
  {
   "cell_type": "markdown",
   "metadata": {},
   "source": [
    "Escriba un programa que calcule la descomposición en factores primos de un número.\n",
    "\n",
    "Ejemplo para 500:\n",
    "Salida: 2 2 5 5 5"
   ]
  },
  {
   "cell_type": "code",
   "execution_count": null,
   "metadata": {},
   "outputs": [],
   "source": [
    "# Escriba su codigo aqui\n",
    "\n"
   ]
  }
 ],
 "metadata": {
  "kernelspec": {
   "display_name": "Python 3",
   "language": "python",
   "name": "python3"
  },
  "language_info": {
   "codemirror_mode": {
    "name": "ipython",
    "version": 3
   },
   "file_extension": ".py",
   "mimetype": "text/x-python",
   "name": "python",
   "nbconvert_exporter": "python",
   "pygments_lexer": "ipython3",
   "version": "3.7.3"
  },
  "widgets": {
   "application/vnd.jupyter.widget-state+json": {
    "state": {},
    "version_major": 2,
    "version_minor": 0
   }
  }
 },
 "nbformat": 4,
 "nbformat_minor": 4
}
