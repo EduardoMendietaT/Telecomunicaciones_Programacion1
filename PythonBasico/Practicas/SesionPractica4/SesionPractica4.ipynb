{
 "cells": [
  {
   "cell_type": "markdown",
   "metadata": {},
   "source": [
    "# Sesión de ejercicios 5"
   ]
  },
  {
   "cell_type": "markdown",
   "metadata": {},
   "source": [
    "El objetivo de esta sesión de ejercicios es que el estudiante se familiarice con los distintos tipos de datos en Python; y además, pueda utilizar las distintas herramientas para manejo de cadenas de texto y listas"
   ]
  },
  {
   "cell_type": "markdown",
   "metadata": {},
   "source": [
    "## Ejercicio 1"
   ]
  },
  {
   "cell_type": "markdown",
   "metadata": {},
   "source": [
    "Una de las operaciones más comunes en programación es la transformación de tipos de datos. Para ello se pueden utilizar las siguientes funciones:\n",
    "\n",
    "- `int()` transforma un valor a un número entero\n",
    "- `float()` transforma un valor a un número flotante\n",
    "- `str()`  transforma un valor a una cadena de texto\n",
    "\n",
    "Para este ejercicio, pida al usuario que ingrese 3 valores numéricos y transfórmelos a valores del tipo `float` luego muestre los valores transformados"
   ]
  },
  {
   "cell_type": "code",
   "execution_count": null,
   "metadata": {},
   "outputs": [],
   "source": [
    "# Ingrese su código aquí\n",
    "\n"
   ]
  },
  {
   "cell_type": "markdown",
   "metadata": {},
   "source": [
    "Ejecute el código a continuación. ¿Cuál es la salida?. ¿Tiene sentido?"
   ]
  },
  {
   "cell_type": "code",
   "execution_count": null,
   "metadata": {},
   "outputs": [],
   "source": [
    "x = \"palabra\"\n",
    "\n",
    "print(float(x))"
   ]
  },
  {
   "cell_type": "markdown",
   "metadata": {},
   "source": [
    "## Ejercicio 2"
   ]
  },
  {
   "cell_type": "markdown",
   "metadata": {},
   "source": [
    "Otra operación típica en programación es verificar si una entrada es numérica o no. Para ello, se puede utilizar una función específica de las cadenas de texto. La función `x.isnumeric()` retorna un valor boleano, en donde True aplica si el valor ingresado es numérico. Por ende, es suceptible de transformación a un valor entero o flotante.\n",
    "\n",
    "Ejemplo:"
   ]
  },
  {
   "cell_type": "code",
   "execution_count": null,
   "metadata": {},
   "outputs": [],
   "source": [
    "x = input(\"Ingrese un valor entero: \")\n",
    "\n",
    "if x.isnumeric():\n",
    "    print(\"El valor de x puede ser transformado: \", float(x))\n",
    "else:\n",
    "    print(\"El valor ingresado no es numérico\")"
   ]
  },
  {
   "cell_type": "markdown",
   "metadata": {},
   "source": [
    "Pida al usuario que ingrese 5 valores. El programa calculará el promedio de los valores ingresados, siempre y cuando estos sean del tipo entero."
   ]
  },
  {
   "cell_type": "code",
   "execution_count": null,
   "metadata": {},
   "outputs": [],
   "source": [
    "# Ingrese su código aquí\n"
   ]
  },
  {
   "cell_type": "markdown",
   "metadata": {},
   "source": [
    "## Ejercicio 3"
   ]
  },
  {
   "cell_type": "markdown",
   "metadata": {},
   "source": [
    "Importe la librería math mediante el siguiente comando `import math`. Luego, genere un array estático con valores punto flotante de 10 elementos. Se requiere calcular el valor promedio de este array, pero únicamente tomando en cuenta el valor absoluto de los distintos elementos. Luego el programa deberá calcular el factorial de la parte entera del resutlado anterior."
   ]
  },
  {
   "cell_type": "code",
   "execution_count": null,
   "metadata": {},
   "outputs": [],
   "source": [
    "import math\n",
    "\n",
    "x = [33.5, 4.4, -5.5, 2.2, -7.7, 9.9, 11.2, 33.2, 66.5, -33.1]\n",
    "\n",
    "# ingrese su código aquí\n"
   ]
  },
  {
   "cell_type": "markdown",
   "metadata": {},
   "source": [
    "Una vez que una librería ha sido importada al programa, se puede hacer uso de la misma en cualquier celda de la notebook. A continuación se ejecutará un comando simple usando la librería math que ya fue previamente importada"
   ]
  },
  {
   "cell_type": "code",
   "execution_count": null,
   "metadata": {},
   "outputs": [],
   "source": [
    "math.ceil(5.6)"
   ]
  },
  {
   "cell_type": "markdown",
   "metadata": {},
   "source": [
    "## Ejercicio 4"
   ]
  },
  {
   "cell_type": "markdown",
   "metadata": {},
   "source": [
    "Se requiere mostrar en pantalla la siguiente información: se tienen 3 listas con información sobre nombres, identificadores, y sueldos de varios usuarios. Se requiere mostrar esta información de forma tabulada como en el ejemplo a continuación.\n",
    "\n",
    "<img src=\"fig1.png\">\n",
    "\n",
    "Para ello, utilice la función `x.format()` del objeto `str`"
   ]
  },
  {
   "cell_type": "code",
   "execution_count": null,
   "metadata": {},
   "outputs": [],
   "source": [
    "nombres = [\"juan\", \"pedro\", \"maria\", \"cecilia\"]\n",
    "ids = [1, 24, 22, 54, 65]\n",
    "sueldos = [100.2, 433.22, 500.3, 700, 300.44]\n",
    "\n",
    "# ingrese su código aquí\n",
    "\n"
   ]
  },
  {
   "cell_type": "markdown",
   "metadata": {},
   "source": [
    "## Ejercicio 5"
   ]
  },
  {
   "cell_type": "markdown",
   "metadata": {},
   "source": [
    "Dada una frase de texto, se requiere dividirla en frases cuyo separador es el `.`. Luego, mostrar las frases en mayúsculas solo si están en una posición par"
   ]
  },
  {
   "cell_type": "code",
   "execution_count": null,
   "metadata": {},
   "outputs": [],
   "source": [
    "frase = \"Frase 1. Frase 2. Frase 3. Frase 4. Frase 5. Frase 6\"\n",
    "\n",
    "# Ingrese su código aquí\n",
    "\n"
   ]
  },
  {
   "cell_type": "markdown",
   "metadata": {},
   "source": [
    "## Ejercicio 6"
   ]
  },
  {
   "cell_type": "markdown",
   "metadata": {},
   "source": [
    "Se requiere un programa para \"obscurecer\" un texto. Es decir, que la legibilidad del texto sea más complicada ya que se intercambiarán caractéres, logrando de esta forma que el texto se modifique.  Para este ejercicio, se cambiarán los siguientes caractéres:\n",
    "- a por 0\n",
    "- e por x\n",
    "- m por 7\n",
    "\n",
    "Por ejemplo la frase: \"este auto necesita mantenimiento\" debe ser cambiada a \"xstx 0uto nxcxsit0 70ntxni7ixnto\""
   ]
  },
  {
   "cell_type": "code",
   "execution_count": null,
   "metadata": {},
   "outputs": [],
   "source": [
    "# Ingrese su código aquí\n",
    "\n"
   ]
  },
  {
   "cell_type": "markdown",
   "metadata": {},
   "source": [
    "## Ejercicio 7"
   ]
  },
  {
   "cell_type": "markdown",
   "metadata": {},
   "source": [
    "Partiendo de dos listas con nombres, se requiere eliminar de la primera lista, los nombres que existen en la segunda. Finalmente mostrar como queda la primera lista"
   ]
  },
  {
   "cell_type": "code",
   "execution_count": null,
   "metadata": {},
   "outputs": [],
   "source": [
    "lista1 = [\"carlos\", \"pedro\", \"jacinto\", \"andrea\", \"mariana\", \"andrea\", \"anne\", \"mariana\", \"karina\"]\n",
    "lista2 = [\"andrea\", \"anne\", \"mariana\"]\n",
    "\n",
    "# Ingrese su código aquí\n",
    "\n"
   ]
  },
  {
   "cell_type": "markdown",
   "metadata": {},
   "source": [
    "## Ejercicio 8"
   ]
  },
  {
   "cell_type": "markdown",
   "metadata": {},
   "source": [
    "Leer del usuario un número entero positivo, e indique cuantas unidades, decenas, centenas, y miles posee.\n",
    "\n",
    "Por ejemplo: 4567 <br>\n",
    "7 unidades, 6 decenas, 5 centenas, 4 miles.\n",
    "\n",
    "Considere que cuando sea una unidad, 1 decena, etc. la palabra es en singular"
   ]
  },
  {
   "cell_type": "code",
   "execution_count": null,
   "metadata": {},
   "outputs": [],
   "source": [
    "# Ingrese su código aquí\n",
    "\n"
   ]
  },
  {
   "cell_type": "markdown",
   "metadata": {},
   "source": [
    "## Ejercicio 9"
   ]
  },
  {
   "cell_type": "markdown",
   "metadata": {},
   "source": [
    "El objetivo de este ejercicio es el de validar una cédula. Para entender el proceso de validación, se proporcionan 2 ejemplos con 2 numeros de cédula válidos. Básicamente, una cédula es válida cuando su último dígito es igual a un número encontrado producto de la validación. El proceso de encontrar este número se detalla acontinuación.\n",
    "Para entender este proceso, es necesario revisar el ejemplo de la Figura 1.\n",
    "\n",
    "<img src=\"fig2.png\">\n",
    "\n",
    "Se parte un número de cédula y se requiere validar su último dígito. Para esta tarea, inicialmente, se deben\n",
    "multiplicar los dígitos de la cédula; los dígitos ubicados en una posición impar se multiplican por 2; aquellos que\n",
    "están ubicados en una posición par se multiplican por 1. En este punto, se debe tener una consideración especial;\n",
    "cuando la multiplicación de los 2 dígitos da como resultado un número menor a 10, este número se acepta (A1).\n",
    "Por otro lado, cuando esta multiplicación da como resultado un número mayor a 9, se le debe restar un valor\n",
    "de 9 (A2). Una vez se hayan encontrado los 9 valores correspondientes a las multiplicaciones, hay que sumarlos\n",
    "(B). Finalmente, se compara el último dígito del número correspondiente a la sumatoria con el último dígito de\n",
    "la cédula (C). Para esta comparación, se realiza una resta de 10 - el último dígito de la sumatoria (C).\n",
    "Existe otra consideración especial en la validación de una cédula que puede ser entendida a través de la Figura 2. En este caso particular, el último dígito de la cédula es igual a 0.\n",
    "\n",
    "<img src=\"fig3.png\">\n",
    "\n",
    "Para este caso, todas las consideraciones que se detallaron previamente se mantienen; únicamente cambia la\n",
    "parte de comparación entre el último dígito de la cédula y el dígito correspondiente a la sumatoria de valores.\n",
    "En este ejemplo (Figura 2), el último dígito del valor correspondiente a la sumatoria se compara directamente\n",
    "con el último dígito de la cédula (C)."
   ]
  },
  {
   "cell_type": "code",
   "execution_count": 1,
   "metadata": {},
   "outputs": [],
   "source": [
    "# Ingrese su código aquí\n",
    "\n"
   ]
  }
 ],
 "metadata": {
  "kernelspec": {
   "display_name": "Python 3",
   "language": "python",
   "name": "python3"
  },
  "language_info": {
   "codemirror_mode": {
    "name": "ipython",
    "version": 3
   },
   "file_extension": ".py",
   "mimetype": "text/x-python",
   "name": "python",
   "nbconvert_exporter": "python",
   "pygments_lexer": "ipython3",
   "version": "3.7.3"
  }
 },
 "nbformat": 4,
 "nbformat_minor": 2
}
