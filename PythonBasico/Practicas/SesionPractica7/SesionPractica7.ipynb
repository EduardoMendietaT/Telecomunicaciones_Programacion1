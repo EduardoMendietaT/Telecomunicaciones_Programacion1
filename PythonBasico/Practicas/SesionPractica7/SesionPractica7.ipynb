{
 "cells": [
  {
   "cell_type": "markdown",
   "metadata": {},
   "source": [
    "# Sesión de ejercicios 8"
   ]
  },
  {
   "cell_type": "markdown",
   "metadata": {},
   "source": [
    "El objetivo de esta sesión de ejercicios es que el estudiante aprenda a determinar cuando implementar una función y como invocarla correctamente. Adicionalmente, el estudiante debe aplicar la documentación adecuada desde el punto de vista del usuario y programador. Finalmente, que el estudiante cree y aplique funciones a problemas reales para de esta forma implementar código más legible y menos propenso a errores.\n",
    "\n",
    "En esta sesión también los estudiantes tendrán la oportunidad de probar la funcionalidad del Sense Hat mediante un emulador en línea. "
   ]
  },
  {
   "cell_type": "markdown",
   "metadata": {},
   "source": [
    "# Ejercicio 1"
   ]
  },
  {
   "cell_type": "markdown",
   "metadata": {},
   "source": [
    "El módulo Sense HAT es una placa electrónica que se adiciona al Raspberry Pi. Tiene una pantalla RGB LED de 8x8 elementos, un joystick de 5 botones, e inclue los siguientes sensores:\n",
    "\n",
    "- Giroscopio\n",
    "- Acelerómetro\n",
    "- Magnetómetro\n",
    "- Temperatura\n",
    "- Presión barométrica\n",
    "- Humedad\n",
    "\n",
    "Ir a la siguiente dirección: https://projects.raspberrypi.org/en/projects/getting-started-with-the-sense-hat y leer detenidamente el tutorial desde el inicio hasta el punto `Setting orientation`. "
   ]
  },
  {
   "cell_type": "markdown",
   "metadata": {},
   "source": [
    "<img src=\"img1.PNG\" style=\"height:300px;\">"
   ]
  },
  {
   "cell_type": "markdown",
   "metadata": {},
   "source": [
    "Durante el tutorial, se le pedirá que cree una cuenta en el sitio del emulador en línea: https://trinket.io/sense-hat"
   ]
  },
  {
   "cell_type": "markdown",
   "metadata": {},
   "source": [
    "<img src=\"img2.png\"  style=\"height:300px;\">"
   ]
  },
  {
   "cell_type": "markdown",
   "metadata": {},
   "source": [
    "### Tarea"
   ]
  },
  {
   "cell_type": "markdown",
   "metadata": {},
   "source": [
    "Luego de haber leído detenidamente y probado el código del tutorial. Crear un programa que se ejecute indefinidamente y vaya mostrando en la pantalla flechas de distinto color que irán cambiando de dirección de forma aleatoria cada dos segundos.\n",
    "\n",
    "Nota: las flechas pueden ser horizontales y verticales únicamente.  Si bien no se puede probar el código desde esta notebook, el estudiante deberá incluir el código de su solución en la celda de abajo.\n",
    "\n",
    "Nota: el programa debe funcionar correctamente y el día de la próxima sesión de ejercicios los grupos deberán mostrar el programa funcionando"
   ]
  },
  {
   "cell_type": "code",
   "execution_count": null,
   "metadata": {},
   "outputs": [],
   "source": [
    "# inserte su código aquí\n",
    "\n"
   ]
  },
  {
   "cell_type": "markdown",
   "metadata": {},
   "source": [
    "# Ejercicio 2"
   ]
  },
  {
   "cell_type": "markdown",
   "metadata": {},
   "source": [
    "Escribir y probar una función que genere un patrón similar a:\n",
    "\n",
    "`*` <br>\n",
    "`* *` <br>\n",
    "`* * *` <br>\n",
    "`* * * *` <br>\n",
    "`* * * * *` <br>\n",
    "`* * * *` <br>\n",
    "`* * *` <br>\n",
    "`* *` <br>\n",
    "`*` <br>\n",
    "\n",
    "Para generar este patrón, la función tendrá un parámetro `profundidad` (para el ejemplo anterior, `profundidad=9`). Adicionalmente este parámetro deberá ser impar. "
   ]
  },
  {
   "cell_type": "code",
   "execution_count": 1,
   "metadata": {},
   "outputs": [],
   "source": [
    "# ingrese su código aquí\n",
    "\n"
   ]
  },
  {
   "cell_type": "markdown",
   "metadata": {},
   "source": [
    "# Ejercicio 3"
   ]
  },
  {
   "cell_type": "markdown",
   "metadata": {},
   "source": [
    "Cree y pruebe una función que dada una lista (`numeros`) de números enteros y un número entero (`x`), retorne 3 valores: (1) cuantos números iguales `x` existen; (2) cuantos números menores a `x` existen; y, (3) cuantos números mayores a `x` existen.\n",
    "\n",
    "Ejemplo:\n",
    "\n",
    "numeros: [10, 5, 4, 4, 6, 3, 7, 10] <br>\n",
    "x: 4\n",
    "\n",
    "salida esperada:\n",
    "Existen  2  números iguales a  4\n",
    "Existen  5  números menores a  4\n",
    "Existen  1  números mayores a  4"
   ]
  },
  {
   "cell_type": "code",
   "execution_count": 2,
   "metadata": {},
   "outputs": [],
   "source": [
    "# inserte su código aquí\n",
    "\n"
   ]
  },
  {
   "cell_type": "markdown",
   "metadata": {},
   "source": [
    "# Ejercicio 4"
   ]
  },
  {
   "cell_type": "markdown",
   "metadata": {},
   "source": [
    "Tomando como base el ejercicio 10 de la sesión de ejercicios 5, crear una función que dado un string, que representa una cédula, retorne True si la cédula es válida, caso contrario que retorne False\n",
    "\n",
    "Nota: Básese en su propia resolución del ejercicio y optimice el código lo más posible, ayudándose de slices, list comprehensions, etc."
   ]
  },
  {
   "cell_type": "code",
   "execution_count": 4,
   "metadata": {},
   "outputs": [],
   "source": [
    "# inserte su código aquí\n",
    "\n"
   ]
  },
  {
   "cell_type": "markdown",
   "metadata": {},
   "source": [
    "# Ejercicio 5"
   ]
  },
  {
   "cell_type": "markdown",
   "metadata": {},
   "source": [
    "Las funciones pueden verse también como expresiones, esto implica que se puede asociar una referencia de una función a una variable y usarla como una función. Esta funcionalidad se utiliza cuando se necesitan evaluar varias funciones con los mismos parámetros. \n",
    "\n",
    "Analice el ejemplo a continuación:"
   ]
  },
  {
   "cell_type": "code",
   "execution_count": null,
   "metadata": {},
   "outputs": [],
   "source": [
    "def funcion1(x):\n",
    "    \"\"\"Implementación de una función cuadrática\n",
    "    \n",
    "    Parametros\n",
    "    ----------\n",
    "    x : int\n",
    "      valor de x de entrada\n",
    "      \n",
    "    Retorna\n",
    "    -------\n",
    "    x**2 : int\n",
    "      resultado de la función\n",
    "    \"\"\"\n",
    "    return x**2\n",
    "\n",
    "\n",
    "def funcion2(x):\n",
    "    \"\"\"Implementación de una función cúbica\n",
    "\n",
    "    Parametros\n",
    "    ----------\n",
    "    x : int\n",
    "      valor de x de entrada\n",
    "      \n",
    "    Retorna\n",
    "    -------\n",
    "    x**3 : int\n",
    "      resultado de la función\n",
    "    \"\"\"\n",
    "    return x**3\n",
    "\n",
    "\n",
    "# funciones a ser ejecutadas\n",
    "funciones = [funcion1, funcion2]\n",
    "\n",
    "# valores de x a ser probados\n",
    "x_vals = range(0, 10)\n",
    "\n",
    "for f in funciones: # se recorren las funciones una a una\n",
    "    res = []  # acumulador de resultados\n",
    "    \n",
    "    # calcula los valores de la función de acuerdo a la función y valor de x actuales\n",
    "    for x in x_vals:\n",
    "        res.append(f(x))\n",
    "    \n",
    "    # muestra el resultado\n",
    "    print(res)"
   ]
  },
  {
   "cell_type": "markdown",
   "metadata": {},
   "source": [
    "Modifique el código anterior para que se implemente una nueva función `funcion3` que ejecute la siguiente función: $(x-5)^2 - 2x + 3$. Se definirán valores de $x$ desde $1..30$ y la ejecución será como sigue: primero se ejecutará `funcion1`, luego `funcion2`, y finalmente `funcion3`. `funcion1` evaluará los valores de $x=\\{1, 4, 7, 10, ...\\}$. `funcion2` evaluará los valores $x=\\{2, 5, 8, 11, ...\\}$ y `funcion3` evaluará los valores $x=\\{3, 6, 9, 12, ...\\}$. El programa mostrará los valores de las funciones para los números números evaluados.\n",
    "\n",
    "Salida esperada:\n",
    "\n",
    "[1, 16, 49, 100, 169, 256, 361, 484, 625, 784] <br>\n",
    "[8, 125, 512, 1331, 2744, 4913, 8000, 12167, 17576, 24389] <br>\n",
    "[1, -8, 1, 28, 73, 136, 217, 316, 433, 568]"
   ]
  },
  {
   "cell_type": "code",
   "execution_count": 5,
   "metadata": {},
   "outputs": [],
   "source": [
    "# inserte su código aquí\n",
    "\n"
   ]
  },
  {
   "cell_type": "markdown",
   "metadata": {},
   "source": [
    "# Ejercicio 6"
   ]
  },
  {
   "cell_type": "markdown",
   "metadata": {},
   "source": [
    "Modifique el código del ejercico anterior para optimizarlo de forma tal que no sea necesario realizar iteraciones sobre `x` : `for x in x_vals:`.\n",
    "\n",
    "Nota: utilice la función `map`. "
   ]
  },
  {
   "cell_type": "code",
   "execution_count": 6,
   "metadata": {},
   "outputs": [],
   "source": [
    "# inserte su código aquí\n",
    "\n"
   ]
  },
  {
   "cell_type": "markdown",
   "metadata": {},
   "source": [
    "# Ejercicio 7"
   ]
  },
  {
   "cell_type": "markdown",
   "metadata": {},
   "source": [
    "Modifique el ejercicio anterior para que, en vez de usar definciones de funciones tradicionales i.e. `funcion1`, `funcion2`, y `funcion3`, utilice funciones lambda para implementar la misma funcionalidad"
   ]
  },
  {
   "cell_type": "code",
   "execution_count": 7,
   "metadata": {},
   "outputs": [],
   "source": [
    "# inserte su código aquí\n",
    "\n"
   ]
  },
  {
   "cell_type": "markdown",
   "metadata": {},
   "source": [
    "# Ejercicio 8"
   ]
  },
  {
   "cell_type": "markdown",
   "metadata": {},
   "source": [
    "Implemente un programa que dada una lista con mensajes codificados, verificar cuantas veces se repite un patrón en ellos. Para ello, primeramente deberá generar dichos mensajes, i.e. una lista de `n` mensajes donde cada elemento es un string de `m` caracteres randómicos que van desde el caracter `a` hasta `k`. Una lista de mensajes válida tiene la siguiente forma: \n",
    "\n",
    "['ekjeg', 'hgkch', 'biaae', 'fcfhb', 'akcbg', 'jhdaj', 'geibk', 'ebchj', 'heeae', 'kfeid'] <br>\n",
    "\n",
    "Para $n=10$ y $m=5$\n",
    "\n",
    "Luego, buscar un patrón cualquiera de 2 caractéres en cada uno de los elementos de esta lista. El programa deberá retornar cuantas veces encontró el patrón en la lista. Se contabilizan únicamente los elementos que contenga el patrón una sola vez.\n",
    "\n",
    "Ejemplo: <br>\n",
    "mensaje: ['keeab', 'dhabe', 'afebd', 'cabab', 'fkabi', 'kifca', 'bfiai', 'hhjbk', 'jkjij', 'echgf'] <br>\n",
    "patron: ab\n",
    "\n",
    "salida esperada: 3\n",
    "\n",
    "Nota: para generar valores aleatorios dentro de un conjunto, se puede usar la función choice de la librería random"
   ]
  },
  {
   "cell_type": "code",
   "execution_count": 8,
   "metadata": {},
   "outputs": [],
   "source": [
    "# inserte su código aquí\n",
    "\n"
   ]
  }
 ],
 "metadata": {
  "kernelspec": {
   "display_name": "Python 3",
   "language": "python",
   "name": "python3"
  },
  "language_info": {
   "codemirror_mode": {
    "name": "ipython",
    "version": 3
   },
   "file_extension": ".py",
   "mimetype": "text/x-python",
   "name": "python",
   "nbconvert_exporter": "python",
   "pygments_lexer": "ipython3",
   "version": "3.7.3"
  },
  "widgets": {
   "application/vnd.jupyter.widget-state+json": {
    "state": {},
    "version_major": 2,
    "version_minor": 0
   }
  }
 },
 "nbformat": 4,
 "nbformat_minor": 4
}
